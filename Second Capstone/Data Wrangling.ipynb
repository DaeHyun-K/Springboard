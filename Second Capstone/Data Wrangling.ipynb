{
 "cells": [
  {
   "cell_type": "markdown",
   "metadata": {},
   "source": [
    "## Disclaimer\n",
    "\n",
    "“The data reported here have been supplied by the United Network for Organ Sharing as the contractor for the Organ Procurement and Transplantation Network. The interpretation and reporting of these data are the responsibility of the author(s) and in no way should be seen as an official policy of or interpretation by the OPTN or the U.S. Government.”\n",
    "\n",
    "This research was performed based on OPTN data as of July 15, 2021."
   ]
  },
  {
   "cell_type": "markdown",
   "metadata": {},
   "source": [
    "## Data Wrangling\n",
    "\n",
    "The main problem with the organ transplant data was the fact that data was too big. This is due to the fact that kidney is the organ that's transplanted the most. Also, the data dates back to 1980s. Thus, when I was trying to load the data just using pandas reading function, the function executing time was too long and gave me errors.\n",
    "\n",
    "Instead of loading the whole file, I decided to first isolate some rows of the data to manipulate first. Then I will be applying similar method on the main data (using chunksize method) to clean up the data in a manageable size."
   ]
  },
  {
   "cell_type": "markdown",
   "metadata": {},
   "source": [
    "### Import"
   ]
  },
  {
   "cell_type": "code",
   "execution_count": 1,
   "metadata": {},
   "outputs": [],
   "source": [
    "import pandas as pd\n",
    "import datetime as dt"
   ]
  },
  {
   "cell_type": "markdown",
   "metadata": {},
   "source": [
    "### Sample (1000 rows)"
   ]
  },
  {
   "cell_type": "code",
   "execution_count": 2,
   "metadata": {},
   "outputs": [],
   "source": [
    "df = pd.read_table('KIDPAN_DATA1000.DAT', delimiter = '\\t', header = None)"
   ]
  },
  {
   "cell_type": "code",
   "execution_count": 3,
   "metadata": {},
   "outputs": [
    {
     "name": "stdout",
     "output_type": "stream",
     "text": [
      "  0   1    2    3   4   5    6   7   8    9    ... 480 481 482 483 484  \\\n",
      "0  PA   .  NaN    0   .   .  NaN   .   .  NaN  ... NaN NaN NaN   N   Y   \n",
      "\n",
      "       485      486    487    488    489  \n",
      "0  Unknown  Unknown  14353  14353  24800  \n",
      "\n",
      "[1 rows x 490 columns]\n"
     ]
    }
   ],
   "source": [
    "print(df.head(1))"
   ]
  },
  {
   "cell_type": "code",
   "execution_count": 4,
   "metadata": {},
   "outputs": [],
   "source": [
    "ref = pd.read_html('KIDPAN_DATA.htm')"
   ]
  },
  {
   "cell_type": "code",
   "execution_count": 5,
   "metadata": {},
   "outputs": [
    {
     "name": "stdout",
     "output_type": "stream",
     "text": [
      "[     Obs              LABEL FORMAT  LENGTH       TYPE  START   END\n",
      "0      1             WL_ORG      $       4  Character      1     4\n",
      "1      2             COD_WL    NaN      11    Numeric      5    15\n",
      "2      3       COD_OSTXT_WL      $      50  Character     16    65\n",
      "3      4        NUM_PREV_TX    NaN       3    Numeric     66    68\n",
      "4      5        CURRENT_PRA    NaN       6    Numeric     69    74\n",
      "..   ...                ...    ...     ...        ...    ...   ...\n",
      "485  486           CTR_CODE    NaN       7  Character   4077  4083\n",
      "486  487       OPO_CTR_CODE    NaN       7  Character   4084  4090\n",
      "487  488  INIT_OPO_CTR_CODE    NaN       7  Character   4091  4097\n",
      "488  489   END_OPO_CTR_CODE    NaN       7  Character   4098  4104\n",
      "489  490   LISTING_CTR_CODE    NaN       7  Character   4105  4111\n",
      "\n",
      "[490 rows x 7 columns]]\n"
     ]
    }
   ],
   "source": [
    "print(ref)"
   ]
  },
  {
   "cell_type": "code",
   "execution_count": 6,
   "metadata": {},
   "outputs": [],
   "source": [
    "col = list(ref[0]['LABEL'])"
   ]
  },
  {
   "cell_type": "code",
   "execution_count": 7,
   "metadata": {},
   "outputs": [
    {
     "name": "stdout",
     "output_type": "stream",
     "text": [
      "['WL_ORG', 'COD_WL', 'COD_OSTXT_WL', 'NUM_PREV_TX', 'CURRENT_PRA', 'PEAK_PRA', 'USE_WHICH_PRA', 'CREAT_CLEAR', 'GFR', 'DONATION', 'ON_DIALYSIS', 'MAX_KDPI_LOCAL_ZERO_ABDR', 'MAX_KDPI_LOCAL_NON_ZERO_ABDR', 'MAX_KDPI_IMPORT_ZERO_ABDR', 'MAX_KDPI_IMPORT_NON_ZERO_ABDR', 'C_PEPTIDE', 'C_PEPTIDEDATE', 'A2A2B_ELIGIBILITY', 'A1', 'A2', 'B1', 'B2', 'DR1', 'DR2', 'ANTIBODY_TESTED', 'GENDER', 'ABO', 'WGT_KG_TCR', 'HGT_CM_TCR', 'BMI_TCR', 'CITIZENSHIP', 'CITIZEN_COUNTRY', 'PERM_STATE', 'EDUCATION', 'FUNC_STAT_TCR', 'DGN_TCR', 'DGN_OSTXT_TCR', 'DGN2_TCR', 'DGN2_OSTXT_TCR', 'DIAB', 'DRUGTRT_COPD', 'TOT_SERUM_ALBUM', 'C_PEPTIDE_PA_TCR', 'HBA1C_PA_TCR', 'SSDMF_DEATH_DATE', 'INIT_CURRENT_PRA', 'INIT_PEAK_PRA', 'INIT_STAT', 'INIT_WGT_KG', 'INIT_HGT_CM', 'INIT_CPRA', 'END_CPRA', 'INIT_EPTS', 'END_EPTS', 'REM_CD', 'DAYSWAIT_CHRON', 'END_STAT', 'INIT_AGE', 'ACTIVATE_DATE', 'CREAT_CLEAR_DATE', 'DEATH_DATE', 'DIALYSIS_DATE', 'END_DATE', 'GFR_DATE', 'INIT_DATE', 'WT_QUAL_DATE', 'ETHNICITY', 'ETHCAT', 'PT_CODE', 'INIT_BMI_CALC', 'END_BMI_CALC', 'DAYSWAIT_ALLOC', 'COMPOSITE_DEATH_DATE', 'WLHR', 'WLHL', 'WLIN', 'WLKI', 'WLKP', 'WLLI', 'WLLU', 'WLPA', 'WLPI', 'WLVC', 'REGION', 'INACT_REASON_CD', 'BW4', 'BW6', 'C1', 'C2', 'DR51', 'DR51_2', 'DR52', 'DR52_2', 'DR53', 'DR53_2', 'DQ1', 'DQ2', 'WL_ID_CODE', 'PERIP_VASC', 'EXH_PERIT_ACCESS', 'AGE_DIAB', 'EXH_VASC_ACCESS', 'YR_ENTRY_US_TCR', 'WORK_INCOME_TCR', 'ACADEMIC_PRG_TCR', 'ACADEMIC_LEVEL_TCR', 'MALIG_TCR_KI', 'PRI_PAYMENT_TCR_KI', 'MALIG_TCR_PA', 'PRI_PAYMENT_TCR_PA', 'PREV_TX', 'PREV_KI_TX', 'PREV_PA_TX', 'ACADEMIC_LEVEL_TRR', 'ACADEMIC_PRG_TRR', 'FUNC_STAT_TRR', 'MALIG_TRR', 'MALIG_OSTXT_TRR', 'MALIG_TY_TRR', 'PERM_STATE_TRR', 'PRI_PAYMENT_TRR_KI', 'PRI_PAYMENT_CTRY_TRR_KI', 'WORK_INCOME_TRR', 'TX_DATE', 'ACUTE_REJ_EPI_KI', 'CREAT_TRR', 'FIRST_WK_DIAL', 'ORG_REC_ON', 'PREV_PREG', 'REC_ON_ICE', 'REC_ON_PUMP', 'SERUM_CREAT', 'L_FIN_FLOW_RATE_TX', 'L_FIN_RESIST_TX', 'R_FIN_FLOW_RATE_TX', 'R_FIN_RESIST_TX', 'PRE_TX_TXFUS', 'FIN_RESIST_TX', 'TXHRT', 'TXINT', 'TXKID', 'TXLIV', 'TXLNG', 'TXPAN', 'TXVCA', 'PRI_PAYMENT_CTRY_TCR_KI', 'PREV_MALIG_TY', 'PREV_MALIG_TY_OSTXT', 'RDA1', 'RDA2', 'RDB1', 'RDB2', 'RDDR1', 'RDDR2', 'DON_RETYP', 'RESUM_MAINT_DIAL_DT', 'DA1', 'DA2', 'DB1', 'DB2', 'DDR1', 'DDR2', 'RA1', 'RA2', 'RB1', 'RB2', 'RDR1', 'RDR2', 'AMIS', 'BMIS', 'DRMIS', 'HLAMIS', 'NPKID', 'NPPAN', 'END_CPRA_DETAIL', 'HAPLO_TY_MATCH_DON', 'AGE_DON', 'DDAVP_DON', 'CMV_OLD_LIV_DON', 'CMV_DON', 'CMV_TEST_DON', 'EBV_TEST_DON', 'HBV_TEST_DON', 'HCV_TEST_DON', 'CMV_NUCLEIC_DON', 'CMV_IGG_DON', 'CMV_IGM_DON', 'EBV_DNA_DON', 'EBV_IGG_DON', 'EBV_IGM_DON', 'HBV_CORE_DON', 'HBV_SUR_ANTIGEN_DON', 'ETHCAT_DON', 'COD_CAD_DON', 'DEATH_CIRCUM_DON', 'DEATH_MECH_DON', 'CITIZENSHIP_DON', 'HEP_C_ANTI_DON', 'HCV_RNA_DON', 'ABO_DON', 'DON_TY', 'GENDER_DON', 'HOME_STATE_DON', 'WARM_ISCH_TM_DON', 'HCV_RIBA_DON', 'HCV_ANTIBODY_DON', 'LIV_DON_TY', 'CITIZEN_COUNTRY_DON', 'COD_OSTXT_DON', 'CONTROLLED_DON', 'CORE_COOL_DON', 'NON_HRT_DON', 'ANTIHYPE_DON', 'BLOOD_INF_DON', 'BLOOD_INF_CONF_DON', 'BUN_DON', 'CREAT_DON', 'DOBUT_DON_OLD', 'DOPAMINE_DON_OLD', 'HTLV1_OLD_DON', 'HTLV2_OLD_DON', 'OTH_DON_MED1_OSTXT_DON_OLD', 'OTH_DON_MED2_OSTXT_DON_OLD', 'OTH_DON_MED3_OSTXT_DON_OLD', 'OTHER_INF_DON', 'OTHER_INF_CONF_DON', 'OTHER_INF_OSTXT_DON', 'PRETREAT_MED_DON_OLD', 'PT_DIURETICS_DON', 'PT_STEROIDS_DON', 'PT_T3_DON', 'PT_T4_DON', 'PT_OTH2_OSTXT_DON', 'PT_OTH3_OSTXT_DON', 'PT_OTH4_OSTXT_DON', 'PT_OTH1_OSTXT_DON', 'PULM_INF_DON', 'PULM_INF_CONF_DON', 'SGOT_DON', 'SGPT_DON', 'TBILI_DON', 'URINE_INF_DON', 'URINE_INF_CONF_DON', 'VASODIL_DON', 'VDRL_DON', 'CLIN_INFECT_DON', 'HYPERTENS_DUR_DON', 'CANCER_FREE_INT_DON', 'CANCER_OTH_OSTXT_DON', 'CONTIN_ALCOHOL_OLD_DON', 'CONTIN_CIG_DON', 'CONTIN_IV_DRUG_OLD_DON', 'CONTIN_COCAINE_DON', 'CONTIN_OTH_DRUG_DON', 'DIET_DON', 'DIURETICS_DON', 'EXTRACRANIAL_CANCER_DON', 'HIST_ALCOHOL_OLD_DON', 'CANCER_SITE_DON', 'HIST_CIG_DON', 'DIABDUR_DON', 'HIST_COCAINE_DON', 'HIST_HYPERTENS_DON', 'HIST_IV_DRUG_OLD_DON', 'INSULIN_DEP_DON', 'INTRACRANIAL_CANCER_DON', 'OTHER_HYPERTENS_MED_DON', 'HIST_CANCER_DON', 'HIST_INSULIN_DEP_DON', 'INSULIN_DUR_DON', 'HIST_DIABETES_DON', 'HIST_OTH_DRUG_DON', 'SKIN_CANCER_DON', 'DIABETES_DON', 'LIV_DON_TY_OSTXT', 'HEPARIN_DON', 'ARGININE_DON', 'INSULIN_DON', 'HGT_CM_DON_CALC', 'WGT_KG_DON_CALC', 'BMI_DON_CALC', 'KDPI', 'KDRI_MED', 'KDRI_RAO', 'HBV_NAT_DON', 'HCV_NAT_DON', 'HIV_NAT_DON', 'END_STAT_KI', 'CREAT6M', 'CREAT1Y', 'DIAL_DATE', 'RETXDATE_KI', 'FAILDATE_KI', 'PUMP_KI', 'ABO_MAT', 'AGE', 'DISTANCE', 'RESUM_MAINT_DIAL', 'DIAL_TRR', 'DIAG_KI', 'DIAG_OSTXT_KI', 'COLD_ISCH_KI', 'GRF_STAT_KI', 'GRF_FAIL_CAUSE_OSTXT_KI', 'GRF_FAIL_CAUSE_TY_KI', 'DWFG_KI', 'PRVTXDIF_KI', 'GTIME_KI', 'GSTATUS_KI', 'COD_KI', 'COD_OSTXT_KI', 'COD2_KI', 'COD2_OSTXT_KI', 'COD3_KI', 'COD3_OSTXT_KI', 'DAYSWAIT_CHRON_KI', 'TX_PROCEDUR_TY_KI', 'TRTREJ1Y_KI', 'TRTREJ6M_KI', 'MULTIORG', 'PRI_PAYMENT_TRR_PA', 'PRI_PAYMENT_CTRY_TRR_PA', 'ART_RECON', 'ART_RECON_OSTXT', 'DUCT_MGMT', 'DUCT_MGMT_OSTXT', 'GRF_PLACEM', 'PRE_AVG_INSULIN_USED_TRR', 'PRE_AVG_INSULIN_USED_OLD_TRR', 'ACUTE_REJ_EPI_PA', 'PA_PRESERV_TM', 'VASC_MGMT', 'VEN_EXT_GRF', 'INSULIN_PA', 'INSULIN_RESUMED_DATE_PA', 'INSULIN_DOSAGE_PA', 'INSULIN_DURATION_PA', 'METHOD_BLOOD_SUGAR_CONTROL_PA', 'BLOOD_SUGAR_MEDICATION_PA', 'BLOOD_SUGAR_MED_RESUMED_DATE_PA', 'BLOOD_SUGAR_DIET_PA', 'C_PEPTIDE_PA_TRR', 'HBA1C_PA_TRR', 'INSULIN_DOSAGE_OLD_PA', 'PRI_PAYMENT_CTRY_TCR_PA', 'PK_DA1', 'PK_DA2', 'PK_DB1', 'PK_DB2', 'PK_DDR1', 'PK_DDR2', 'ENTERIC_DRAIN', 'ENTERIC_DRAIN_DT', 'END_STAT_PA', 'FAILDATE_PA', 'DIAG_PA', 'DIAG_OSTXT_PA', 'GRF_STAT_PA', 'GRF_FAIL_CAUSE_OSTXT_PA', 'GRF_FAIL_CAUSE_TY_PA', 'OTH_GRF_FAIL_CAUSE_OSTXT_PA', 'GRF_VASC_THROMB_PA', 'INFECT_PA', 'BLEED_PA', 'ANAST_LK_PA', 'REJ_ACUTE_PA', 'REJ_HYPER_PA', 'BIOP_ISLET_PA', 'PANCREATIT_PA', 'REJ_CHRONIC_PA', 'PX_NON_COMPL_PA', 'RETXDATE_PA', 'PRVTXDIF_PA', 'GTIME_PA', 'GSTATUS_PA', 'COD_PA', 'COD_OSTXT_PA', 'COD2_PA', 'COD2_OSTXT_PA', 'COD3_PA', 'COD3_OSTXT_PA', 'DAYSWAIT_CHRON_PA', 'TX_PROCEDUR_TY_PA', 'TRTREJ1Y_PA', 'TRTREJ6M_PA', 'ORGAN', 'CMV_IGG', 'CMV_IGM', 'EBV_SEROSTATUS', 'HBV_CORE', 'HBV_SUR_ANTIGEN', 'HCV_SEROSTATUS', 'HIV_SEROSTATUS', 'CMV_STATUS', 'HBV_SURF_TOTAL', 'HIV_NAT', 'HCV_NAT', 'HBV_NAT', 'PREV_TX_ANY', 'TX_TYPE', 'MED_COND_TRR', 'PX_STAT', 'PX_STAT_DATE', 'PREV_KI_DATE', 'FUNC_STAT_TRF', 'SHARE_TY', 'PSTATUS', 'PTIME', 'LOS', 'PAYBACK', 'ECD_DONOR', 'AGE_GROUP', 'MALIG', 'MALIG_TY_OSTXT', 'MALIG_TY', 'HGT_CM_CALC', 'WGT_KG_CALC', 'BMI_CALC', 'STATUS_TCR', 'STATUS_TRR', 'STATUS_DDR', 'VAL_DT_DDR', 'STATUS_LDR', 'VAL_DT_LDR', 'VAL_DT_TCR', 'VAL_DT_TRR', 'LT_ONE_WEEK_DON', 'REJ_BIOPSY', 'REJCNF_KI', 'REJTRT_KI', 'REJCNF_PA', 'REJTRT_PA', 'TRR_ID_CODE', 'ADMISSION_DATE', 'DISCHARGE_DATE', 'COMPL_ABSC', 'COMPL_ANASLK', 'COMPL_PANCREA', 'OTH_COMPL_OSTXT', 'SURG_INCIS', 'OPER_TECH', 'EDUCATION_DON', 'KI_CREAT_PREOP', 'KI_PROC_TY', 'PRI_PAYMENT_DON', 'PRI_PAYMENT_CTRY_DON', 'MEDICARE_DON', 'MEDICAID_DON', 'OTH_GOVT_DON', 'PRIV_INS_DON', 'HMO_PPO_DON', 'SELF_DON', 'DONATION_DON', 'FREE_DON', 'RECOV_OUT_US', 'RECOV_COUNTRY', 'PROTEIN_URINE', 'LIPASE', 'AMYLASE', 'INOTROP_AGENTS', 'CARDARREST_NEURO', 'RESUSCIT_DUR', 'INOTROP_SUPPORT_DON', 'TATTOOS', 'LT_KI_BIOPSY', 'LT_KI_GLOMERUL', 'RT_KI_BIOPSY', 'RT_KI_GLOMERUL', 'REFERRAL_DATE', 'RECOVERY_DATE', 'ADMIT_DATE_DON', 'DONOR_ID', 'HBSAB_DON', 'EBV_IGG_CAD_DON', 'EBV_IGM_CAD_DON', 'HBV_DNA_DON', 'CDC_RISK_HIV_DON', 'INO_PROCURE_AGENT_1', 'INO_PROCURE_AGENT_2', 'INO_PROCURE_AGENT_3', 'INO_PROCURE_OSTXT_1', 'INO_PROCURE_OSTXT_2', 'INO_PROCURE_OSTXT_3', 'DATA_TRANSPLANT', 'DATA_WAITLIST', 'CTR_CODE', 'OPO_CTR_CODE', 'INIT_OPO_CTR_CODE', 'END_OPO_CTR_CODE', 'LISTING_CTR_CODE']\n"
     ]
    }
   ],
   "source": [
    "print (col)"
   ]
  },
  {
   "cell_type": "code",
   "execution_count": 8,
   "metadata": {},
   "outputs": [],
   "source": [
    "df.columns = col"
   ]
  },
  {
   "cell_type": "code",
   "execution_count": 9,
   "metadata": {},
   "outputs": [
    {
     "name": "stdout",
     "output_type": "stream",
     "text": [
      "<class 'pandas.core.frame.DataFrame'>\n",
      "RangeIndex: 1000 entries, 0 to 999\n",
      "Columns: 490 entries, WL_ORG to LISTING_CTR_CODE\n",
      "dtypes: float64(65), int64(31), object(394)\n",
      "memory usage: 3.7+ MB\n",
      "None\n"
     ]
    }
   ],
   "source": [
    "print(df.info())"
   ]
  },
  {
   "cell_type": "markdown",
   "metadata": {},
   "source": [
    "We can see that this data has 490 columns. I decided to go over the columns and only select the columns of interest. The columns selected include information about age, location, sex, diagnosis, BMI, blood type, center information, and transplant types."
   ]
  },
  {
   "cell_type": "code",
   "execution_count": 40,
   "metadata": {},
   "outputs": [],
   "source": [
    "columns = ['ABO',\n",
    "'ABO_DON',\n",
    "'ABO_MAT',\n",
    "'ACTIVATE_DATE',\n",
    "'ADMISSION_DATE',\n",
    "'ADMIT_DATE_DON',\n",
    "'AGE',\n",
    "'AGE_DIAB',\n",
    "'AGE_DON',\n",
    "'ANTIBODY_TESTED',\n",
    "'BMI_CALC',\n",
    "'CITIZEN_COUNTRY',\n",
    "'CITIZEN_COUNTRY_DON',\n",
    "'CITIZENSHIP',\n",
    "'CITIZENSHIP_DON',\n",
    "'CTR_CODE',\n",
    "'DAYSWAIT_CHRON',\n",
    "'DAYSWAIT_CHRON_KI',\n",
    "'DEATH_DATE',\n",
    "'DGN_TCR',\n",
    "'DIAB',\n",
    "'DIAG_KI',\n",
    "'DIAG_OSTXT_KI',\n",
    "'DISTANCE',\n",
    "'END_EPTS',\n",
    "'END_STAT_KI',\n",
    "'ETHCAT',\n",
    "'ETHCAT_DON',\n",
    "'ETHNICITY',\n",
    "'GENDER',\n",
    "'GENDER_DON',\n",
    "'GFR',\n",
    "'HOME_STATE_DON',\n",
    "'INACT_REASON_CD',\n",
    "'INIT_AGE',\n",
    "'INIT_BMI_CALC',\n",
    "'INIT_DATE',\n",
    "'INIT_EPTS',\n",
    "'INIT_HGT_CM',\n",
    "'INIT_STAT',\n",
    "'INIT_WGT_KG',\n",
    "'LISTING_CTR_CODE',\n",
    "'LIV_DON_TY',\n",
    "'LIV_DON_TY_OSTXT',\n",
    "'MED_COND_TRR',\n",
    "'NPKID',\n",
    "'ORGAN',\n",
    "'PERM_STATE',\n",
    "'PERM_STATE_TRR',\n",
    "'PTIME',\n",
    "'RECOV_OUT_US',\n",
    "'REM_CD',\n",
    "'TRR_ID_CODE',\n",
    "'TX_DATE',\n",
    "'TX_PROCEDUR_TY_KI',\n",
    "'TXKID',\n",
    "'WL_ID_CODE',\n",
    "'WL_ORG',\n",
    "'WLKI']"
   ]
  },
  {
   "cell_type": "code",
   "execution_count": 11,
   "metadata": {},
   "outputs": [
    {
     "name": "stdout",
     "output_type": "stream",
     "text": [
      "['ABO', 'ABO_DON', 'ABO_MAT', 'ACTIVATE_DATE', 'ADMISSION_DATE', 'ADMIT_DATE_DON', 'AGE', 'AGE_DIAB', 'AGE_DON', 'ANTIBODY_TESTED', 'BMI_CALC', 'CITIZEN_COUNTRY', 'CITIZEN_COUNTRY_DON', 'CITIZENSHIP', 'CITIZENSHIP_DON', 'CTR_CODE', 'DAYSWAIT_CHRON', 'DAYSWAIT_CHRON_KI', 'DEATH_DATE', 'DGN_OSTXT_TCR', 'DGN_TCR', 'DIAB', 'DIAG_KI', 'DIAG_OSTXT_KI', 'DISTANCE', 'END_EPTS', 'END_STAT_KI', 'ETHCAT', 'ETHCAT_DON', 'ETHNICITY', 'GENDER', 'GENDER_DON', 'GFR', 'HOME_STATE_DON', 'INACT_REASON_CD', 'INIT_AGE', 'INIT_BMI_CALC', 'INIT_DATE', 'INIT_EPTS', 'INIT_HGT_CM', 'INIT_STAT', 'INIT_WGT_KG', 'LISTING_CTR_CODE', 'LIV_DON_TY', 'LIV_DON_TY_OSTXT', 'MED_COND_TRR', 'NPKID', 'ORGAN', 'PERM_STATE', 'PERM_STATE_TRR', 'PTIME', 'RECOV_OUT_US', 'REM_CD', 'TRR_ID_CODE', 'TX_DATE', 'TX_PROCEDUR_TY_KI', 'TXKID', 'WL_ID_CODE', 'WL_ORG', 'WLKI']\n"
     ]
    }
   ],
   "source": [
    "print(columns)"
   ]
  },
  {
   "cell_type": "code",
   "execution_count": 12,
   "metadata": {},
   "outputs": [],
   "source": [
    "df1 = df[columns]"
   ]
  },
  {
   "cell_type": "code",
   "execution_count": 13,
   "metadata": {},
   "outputs": [
    {
     "name": "stdout",
     "output_type": "stream",
     "text": [
      "<class 'pandas.core.frame.DataFrame'>\n",
      "RangeIndex: 1000 entries, 0 to 999\n",
      "Data columns (total 60 columns):\n",
      " #   Column               Non-Null Count  Dtype  \n",
      "---  ------               --------------  -----  \n",
      " 0   ABO                  1000 non-null   object \n",
      " 1   ABO_DON              546 non-null    object \n",
      " 2   ABO_MAT              546 non-null    float64\n",
      " 3   ACTIVATE_DATE        1000 non-null   object \n",
      " 4   ADMISSION_DATE       1000 non-null   object \n",
      " 5   ADMIT_DATE_DON       1000 non-null   object \n",
      " 6   AGE                  1000 non-null   object \n",
      " 7   AGE_DIAB             1000 non-null   object \n",
      " 8   AGE_DON              1000 non-null   object \n",
      " 9   ANTIBODY_TESTED      0 non-null      float64\n",
      " 10  BMI_CALC             1000 non-null   object \n",
      " 11  CITIZEN_COUNTRY      0 non-null      float64\n",
      " 12  CITIZEN_COUNTRY_DON  0 non-null      float64\n",
      " 13  CITIZENSHIP          1000 non-null   object \n",
      " 14  CITIZENSHIP_DON      1000 non-null   object \n",
      " 15  CTR_CODE             1000 non-null   object \n",
      " 16  DAYSWAIT_CHRON       1000 non-null   int64  \n",
      " 17  DAYSWAIT_CHRON_KI    1000 non-null   object \n",
      " 18  DEATH_DATE           1000 non-null   object \n",
      " 19  DGN_OSTXT_TCR        123 non-null    object \n",
      " 20  DGN_TCR              1000 non-null   object \n",
      " 21  DIAB                 1000 non-null   object \n",
      " 22  DIAG_KI              1000 non-null   object \n",
      " 23  DIAG_OSTXT_KI        68 non-null     object \n",
      " 24  DISTANCE             1000 non-null   object \n",
      " 25  END_EPTS             1000 non-null   object \n",
      " 26  END_STAT_KI          1000 non-null   object \n",
      " 27  ETHCAT               1000 non-null   int64  \n",
      " 28  ETHCAT_DON           1000 non-null   object \n",
      " 29  ETHNICITY            1000 non-null   int64  \n",
      " 30  GENDER               1000 non-null   object \n",
      " 31  GENDER_DON           546 non-null    object \n",
      " 32  GFR                  1000 non-null   object \n",
      " 33  HOME_STATE_DON       542 non-null    object \n",
      " 34  INACT_REASON_CD      1000 non-null   object \n",
      " 35  INIT_AGE             1000 non-null   int64  \n",
      " 36  INIT_BMI_CALC        1000 non-null   object \n",
      " 37  INIT_DATE            1000 non-null   object \n",
      " 38  INIT_EPTS            1000 non-null   object \n",
      " 39  INIT_HGT_CM          1000 non-null   object \n",
      " 40  INIT_STAT            1000 non-null   object \n",
      " 41  INIT_WGT_KG          1000 non-null   object \n",
      " 42  LISTING_CTR_CODE     1000 non-null   int64  \n",
      " 43  LIV_DON_TY           1000 non-null   object \n",
      " 44  LIV_DON_TY_OSTXT     7 non-null      object \n",
      " 45  MED_COND_TRR         1000 non-null   object \n",
      " 46  NPKID                1000 non-null   object \n",
      " 47  ORGAN                546 non-null    object \n",
      " 48  PERM_STATE           965 non-null    object \n",
      " 49  PERM_STATE_TRR       3 non-null      object \n",
      " 50  PTIME                1000 non-null   object \n",
      " 51  RECOV_OUT_US         546 non-null    object \n",
      " 52  REM_CD               1000 non-null   int64  \n",
      " 53  TRR_ID_CODE          546 non-null    object \n",
      " 54  TX_DATE              1000 non-null   object \n",
      " 55  TX_PROCEDUR_TY_KI    1000 non-null   object \n",
      " 56  TXKID                544 non-null    object \n",
      " 57  WL_ID_CODE           1000 non-null   int64  \n",
      " 58  WL_ORG               1000 non-null   object \n",
      " 59  WLKI                 19 non-null     object \n",
      "dtypes: float64(4), int64(7), object(49)\n",
      "memory usage: 468.9+ KB\n",
      "None\n"
     ]
    }
   ],
   "source": [
    "print(df1.info())"
   ]
  },
  {
   "cell_type": "code",
   "execution_count": 14,
   "metadata": {},
   "outputs": [
    {
     "name": "stderr",
     "output_type": "stream",
     "text": [
      "<ipython-input-14-7aa95245626c>:1: SettingWithCopyWarning: \n",
      "A value is trying to be set on a copy of a slice from a DataFrame.\n",
      "Try using .loc[row_indexer,col_indexer] = value instead\n",
      "\n",
      "See the caveats in the documentation: https://pandas.pydata.org/pandas-docs/stable/user_guide/indexing.html#returning-a-view-versus-a-copy\n",
      "  df1['INIT_DATE'] = pd.to_datetime(df1['INIT_DATE'], errors ='coerce')\n"
     ]
    }
   ],
   "source": [
    "df1['INIT_DATE'] = pd.to_datetime(df1['INIT_DATE'], errors ='coerce')"
   ]
  },
  {
   "cell_type": "code",
   "execution_count": 15,
   "metadata": {},
   "outputs": [],
   "source": [
    "df_recent = df1[df1['INIT_DATE'].dt.year>1990]"
   ]
  },
  {
   "cell_type": "code",
   "execution_count": 16,
   "metadata": {},
   "outputs": [
    {
     "name": "stdout",
     "output_type": "stream",
     "text": [
      "<class 'pandas.core.frame.DataFrame'>\n",
      "Int64Index: 865 entries, 0 to 996\n",
      "Data columns (total 60 columns):\n",
      " #   Column               Non-Null Count  Dtype         \n",
      "---  ------               --------------  -----         \n",
      " 0   ABO                  865 non-null    object        \n",
      " 1   ABO_DON              507 non-null    object        \n",
      " 2   ABO_MAT              507 non-null    float64       \n",
      " 3   ACTIVATE_DATE        865 non-null    object        \n",
      " 4   ADMISSION_DATE       865 non-null    object        \n",
      " 5   ADMIT_DATE_DON       865 non-null    object        \n",
      " 6   AGE                  865 non-null    object        \n",
      " 7   AGE_DIAB             865 non-null    object        \n",
      " 8   AGE_DON              865 non-null    object        \n",
      " 9   ANTIBODY_TESTED      0 non-null      float64       \n",
      " 10  BMI_CALC             865 non-null    object        \n",
      " 11  CITIZEN_COUNTRY      0 non-null      float64       \n",
      " 12  CITIZEN_COUNTRY_DON  0 non-null      float64       \n",
      " 13  CITIZENSHIP          865 non-null    object        \n",
      " 14  CITIZENSHIP_DON      865 non-null    object        \n",
      " 15  CTR_CODE             865 non-null    object        \n",
      " 16  DAYSWAIT_CHRON       865 non-null    int64         \n",
      " 17  DAYSWAIT_CHRON_KI    865 non-null    object        \n",
      " 18  DEATH_DATE           865 non-null    object        \n",
      " 19  DGN_OSTXT_TCR        94 non-null     object        \n",
      " 20  DGN_TCR              865 non-null    object        \n",
      " 21  DIAB                 865 non-null    object        \n",
      " 22  DIAG_KI              865 non-null    object        \n",
      " 23  DIAG_OSTXT_KI        66 non-null     object        \n",
      " 24  DISTANCE             865 non-null    object        \n",
      " 25  END_EPTS             865 non-null    object        \n",
      " 26  END_STAT_KI          865 non-null    object        \n",
      " 27  ETHCAT               865 non-null    int64         \n",
      " 28  ETHCAT_DON           865 non-null    object        \n",
      " 29  ETHNICITY            865 non-null    int64         \n",
      " 30  GENDER               865 non-null    object        \n",
      " 31  GENDER_DON           507 non-null    object        \n",
      " 32  GFR                  865 non-null    object        \n",
      " 33  HOME_STATE_DON       503 non-null    object        \n",
      " 34  INACT_REASON_CD      865 non-null    object        \n",
      " 35  INIT_AGE             865 non-null    int64         \n",
      " 36  INIT_BMI_CALC        865 non-null    object        \n",
      " 37  INIT_DATE            865 non-null    datetime64[ns]\n",
      " 38  INIT_EPTS            865 non-null    object        \n",
      " 39  INIT_HGT_CM          865 non-null    object        \n",
      " 40  INIT_STAT            865 non-null    object        \n",
      " 41  INIT_WGT_KG          865 non-null    object        \n",
      " 42  LISTING_CTR_CODE     865 non-null    int64         \n",
      " 43  LIV_DON_TY           865 non-null    object        \n",
      " 44  LIV_DON_TY_OSTXT     7 non-null      object        \n",
      " 45  MED_COND_TRR         865 non-null    object        \n",
      " 46  NPKID                865 non-null    object        \n",
      " 47  ORGAN                507 non-null    object        \n",
      " 48  PERM_STATE           857 non-null    object        \n",
      " 49  PERM_STATE_TRR       2 non-null      object        \n",
      " 50  PTIME                865 non-null    object        \n",
      " 51  RECOV_OUT_US         507 non-null    object        \n",
      " 52  REM_CD               865 non-null    int64         \n",
      " 53  TRR_ID_CODE          507 non-null    object        \n",
      " 54  TX_DATE              865 non-null    object        \n",
      " 55  TX_PROCEDUR_TY_KI    865 non-null    object        \n",
      " 56  TXKID                505 non-null    object        \n",
      " 57  WL_ID_CODE           865 non-null    int64         \n",
      " 58  WL_ORG               865 non-null    object        \n",
      " 59  WLKI                 19 non-null     object        \n",
      "dtypes: datetime64[ns](1), float64(4), int64(7), object(48)\n",
      "memory usage: 412.2+ KB\n",
      "None\n"
     ]
    }
   ],
   "source": [
    "print(df_recent.info())"
   ]
  },
  {
   "cell_type": "markdown",
   "metadata": {},
   "source": [
    "I was able to set a criteria on the data so that I only selected patients who were placed on the waiting list after 1990"
   ]
  },
  {
   "cell_type": "code",
   "execution_count": 17,
   "metadata": {},
   "outputs": [
    {
     "name": "stdout",
     "output_type": "stream",
     "text": [
      "['PA' 'KI' 'KP']\n"
     ]
    }
   ],
   "source": [
    "print(pd.unique(df['WL_ORG']))"
   ]
  },
  {
   "cell_type": "code",
   "execution_count": 18,
   "metadata": {},
   "outputs": [],
   "source": [
    "df_recent_kidney = df_recent[df_recent['WL_ORG'] == 'KI']"
   ]
  },
  {
   "cell_type": "code",
   "execution_count": 19,
   "metadata": {},
   "outputs": [
    {
     "name": "stdout",
     "output_type": "stream",
     "text": [
      "    ABO ABO_DON  ABO_MAT ACTIVATE_DATE ADMISSION_DATE ADMIT_DATE_DON AGE  \\\n",
      "1     O     NaN      NaN    02/28/1994              .              .   .   \n",
      "2     O       O      1.0    02/28/1994              .              .  38   \n",
      "3     O     NaN      NaN    02/28/1994              .              .   .   \n",
      "4     A      A1      1.0    02/28/1994              .              .  43   \n",
      "6     O     NaN      NaN    02/28/1994              .              .   .   \n",
      "..   ..     ...      ...           ...            ...            ...  ..   \n",
      "992   A      A1      1.0    01/24/1992              .              .  52   \n",
      "993   O     NaN      NaN    07/29/1993              .              .   .   \n",
      "994   B     NaN      NaN             .              .              .   .   \n",
      "995   O       O      1.0             .              .              .  49   \n",
      "996   A      A1      1.0             .              .              .  22   \n",
      "\n",
      "    AGE_DIAB AGE_DON  ANTIBODY_TESTED  ... PTIME  RECOV_OUT_US  REM_CD  \\\n",
      "1          .       .              NaN  ...     .           NaN       9   \n",
      "2          .      35              NaN  ...  4746             N       4   \n",
      "3          .       .              NaN  ...     .           NaN       5   \n",
      "4          .      17              NaN  ...  9835             N       4   \n",
      "6          .       .              NaN  ...     .           NaN       9   \n",
      "..       ...     ...              ...  ...   ...           ...     ...   \n",
      "992        .      49              NaN  ...  6805             N       4   \n",
      "993        .       .              NaN  ...     .           NaN       5   \n",
      "994        .       .              NaN  ...     .           NaN       9   \n",
      "995        .      75              NaN  ...   877             N       4   \n",
      "996        .      11              NaN  ...  4446             N       4   \n",
      "\n",
      "    TRR_ID_CODE     TX_DATE TX_PROCEDUR_TY_KI  TXKID WL_ID_CODE WL_ORG WLKI  \n",
      "1           NaN           .                 .    NaN     832007     KI  NaN  \n",
      "2       A367566  04/03/1994               102      R     459022     KI  NaN  \n",
      "3           NaN           .                 .    NaN     517473     KI  NaN  \n",
      "4       A310304  06/05/1994               102      R     219518     KI  NaN  \n",
      "6           NaN           .                 .    NaN     767013     KI  NaN  \n",
      "..          ...         ...               ...    ...        ...    ...  ...  \n",
      "992     A323482  06/02/1994               101      L      93669     KI  NaN  \n",
      "993         NaN           .                 .    NaN     336678     KI  NaN  \n",
      "994         NaN           .                 .    NaN     702046     KI  NaN  \n",
      "995     A189837  05/08/1996               102      R     519060     KI  NaN  \n",
      "996     A114341  08/10/1995               102      R     118427     KI  NaN  \n",
      "\n",
      "[840 rows x 60 columns]\n"
     ]
    }
   ],
   "source": [
    "print(df_recent_kidney)"
   ]
  },
  {
   "cell_type": "markdown",
   "metadata": {},
   "source": [
    "Here I can fulther filter the data by kidney organ only."
   ]
  },
  {
   "cell_type": "markdown",
   "metadata": {},
   "source": [
    "### Whole Data"
   ]
  },
  {
   "cell_type": "code",
   "execution_count": 34,
   "metadata": {},
   "outputs": [
    {
     "name": "stdout",
     "output_type": "stream",
     "text": [
      "1.0.5\n"
     ]
    }
   ],
   "source": [
    "print(pd.__version__)"
   ]
  },
  {
   "cell_type": "code",
   "execution_count": 41,
   "metadata": {},
   "outputs": [],
   "source": [
    "df_whole = pd.DataFrame()\n",
    "\n",
    "for chunk in pd.read_table('KIDPAN_DATA.DAT', header = None, chunksize=10000, low_memory=False, names = col, usecols=columns, encoding = 'latin-1', error_bad_lines = False, warn_bad_lines = True):\n",
    "    chunk['INIT_DATE'] = pd.to_datetime(chunk['INIT_DATE'], errors ='coerce')\n",
    "    chunk = chunk[chunk['INIT_DATE'].dt.year>2010]\n",
    "    chunk = chunk[chunk['WL_ORG'] == 'KI']\n",
    "    df_whole = pd.concat([df_whole,chunk])\n"
   ]
  },
  {
   "cell_type": "code",
   "execution_count": 42,
   "metadata": {},
   "outputs": [
    {
     "name": "stdout",
     "output_type": "stream",
     "text": [
      "<class 'pandas.core.frame.DataFrame'>\n",
      "Int64Index: 400542 entries, 331081 to 1051756\n",
      "Data columns (total 59 columns):\n",
      " #   Column               Non-Null Count   Dtype         \n",
      "---  ------               --------------   -----         \n",
      " 0   WL_ORG               400542 non-null  object        \n",
      " 1   GFR                  400542 non-null  object        \n",
      " 2   ANTIBODY_TESTED      350916 non-null  object        \n",
      " 3   GENDER               400542 non-null  object        \n",
      " 4   ABO                  400542 non-null  object        \n",
      " 5   CITIZENSHIP          400542 non-null  object        \n",
      " 6   CITIZEN_COUNTRY      3234 non-null    object        \n",
      " 7   PERM_STATE           399721 non-null  object        \n",
      " 8   DGN_TCR              400542 non-null  object        \n",
      " 9   DIAB                 400542 non-null  object        \n",
      " 10  INIT_STAT            400542 non-null  object        \n",
      " 11  INIT_WGT_KG          400542 non-null  object        \n",
      " 12  INIT_HGT_CM          400542 non-null  object        \n",
      " 13  INIT_EPTS            400542 non-null  object        \n",
      " 14  END_EPTS             400542 non-null  object        \n",
      " 15  REM_CD               400542 non-null  object        \n",
      " 16  DAYSWAIT_CHRON       400542 non-null  object        \n",
      " 17  INIT_AGE             400542 non-null  object        \n",
      " 18  ACTIVATE_DATE        400542 non-null  object        \n",
      " 19  DEATH_DATE           400542 non-null  object        \n",
      " 20  INIT_DATE            400542 non-null  datetime64[ns]\n",
      " 21  ETHNICITY            400542 non-null  int64         \n",
      " 22  ETHCAT               400542 non-null  int64         \n",
      " 23  INIT_BMI_CALC        400542 non-null  object        \n",
      " 24  WLKI                 0 non-null       object        \n",
      " 25  INACT_REASON_CD      400542 non-null  object        \n",
      " 26  WL_ID_CODE           400542 non-null  object        \n",
      " 27  AGE_DIAB             400542 non-null  object        \n",
      " 28  PERM_STATE_TRR       163687 non-null  object        \n",
      " 29  TX_DATE              400542 non-null  object        \n",
      " 30  TXKID                166421 non-null  object        \n",
      " 31  NPKID                400542 non-null  object        \n",
      " 32  AGE_DON              400542 non-null  object        \n",
      " 33  ETHCAT_DON           400542 non-null  object        \n",
      " 34  CITIZENSHIP_DON      400542 non-null  object        \n",
      " 35  ABO_DON              166421 non-null  object        \n",
      " 36  GENDER_DON           166421 non-null  object        \n",
      " 37  HOME_STATE_DON       163145 non-null  object        \n",
      " 38  LIV_DON_TY           400542 non-null  object        \n",
      " 39  CITIZEN_COUNTRY_DON  387 non-null     object        \n",
      " 40  LIV_DON_TY_OSTXT     16285 non-null   object        \n",
      " 41  END_STAT_KI          400542 non-null  object        \n",
      " 42  ABO_MAT              166421 non-null  float64       \n",
      " 43  AGE                  400542 non-null  object        \n",
      " 44  DISTANCE             400542 non-null  object        \n",
      " 45  DIAG_KI              400542 non-null  object        \n",
      " 46  DIAG_OSTXT_KI        11783 non-null   object        \n",
      " 47  DAYSWAIT_CHRON_KI    400542 non-null  object        \n",
      " 48  TX_PROCEDUR_TY_KI    400542 non-null  object        \n",
      " 49  ORGAN                166421 non-null  object        \n",
      " 50  MED_COND_TRR         400542 non-null  object        \n",
      " 51  PTIME                400542 non-null  object        \n",
      " 52  BMI_CALC             400542 non-null  object        \n",
      " 53  TRR_ID_CODE          166421 non-null  object        \n",
      " 54  ADMISSION_DATE       400542 non-null  object        \n",
      " 55  RECOV_OUT_US         112451 non-null  object        \n",
      " 56  ADMIT_DATE_DON       400542 non-null  object        \n",
      " 57  CTR_CODE             400542 non-null  object        \n",
      " 58  LISTING_CTR_CODE     400542 non-null  object        \n",
      "dtypes: datetime64[ns](1), float64(1), int64(2), object(55)\n",
      "memory usage: 183.4+ MB\n",
      "None\n"
     ]
    }
   ],
   "source": [
    "print(df_whole.info())"
   ]
  },
  {
   "cell_type": "code",
   "execution_count": 43,
   "metadata": {},
   "outputs": [],
   "source": [
    "df_whole.to_csv('KIDNEY_RAW.csv')"
   ]
  },
  {
   "cell_type": "markdown",
   "metadata": {},
   "source": [
    "I encountered several errors with the encoding, so I used encoding='latin-1' and also error_bad_lines = False, warn_bad_lines = True. I selected several columns to reduce the time. In the future, I can definitely revisit the columns to gain more insights from the data.\n",
    "\n",
    "As the info shows, there are about 40,000 rows of data which should be big enough data to analyze. I may have to clean the data more, but as of now, I'm pretty satisfied with the condensed data only about kidney and years after 2010."
   ]
  },
  {
   "cell_type": "code",
   "execution_count": null,
   "metadata": {},
   "outputs": [],
   "source": []
  }
 ],
 "metadata": {
  "kernelspec": {
   "display_name": "Python 3",
   "language": "python",
   "name": "python3"
  },
  "language_info": {
   "codemirror_mode": {
    "name": "ipython",
    "version": 3
   },
   "file_extension": ".py",
   "mimetype": "text/x-python",
   "name": "python",
   "nbconvert_exporter": "python",
   "pygments_lexer": "ipython3",
   "version": "3.8.3"
  }
 },
 "nbformat": 4,
 "nbformat_minor": 4
}
