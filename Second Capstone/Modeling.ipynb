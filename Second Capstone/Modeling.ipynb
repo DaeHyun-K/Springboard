{
 "cells": [
  {
   "cell_type": "markdown",
   "metadata": {},
   "source": [
    "## Disclaimer\n",
    "\n",
    "“The data reported here have been supplied by the United Network for Organ Sharing as the contractor for the Organ Procurement and Transplantation Network. The interpretation and reporting of these data are the responsibility of the author(s) and in no way should be seen as an official policy of or interpretation by the OPTN or the U.S. Government.”\n",
    "\n",
    "This research was performed based on OPTN data as of July 15, 2021."
   ]
  },
  {
   "cell_type": "markdown",
   "metadata": {},
   "source": [
    "## Modeling\n",
    "\n",
    "After doing data cleaning, EDA, and preprocessing, the last step that remains is to train a model from my data.\n",
    "\n",
    "For this notebook, I will be testing a few regression machine learning models to come up with a best model for waitlist time prediction for patients in an organ waitlist. First of all, I will be using dummy average as the baseline for my accuracy score. Subsequently, I will employ linear regression model and random forest model. For both models, I will explore the hyperparameters to obtain the best estimator. Finally, I should be able to determine which model is most ideal for my data."
   ]
  },
  {
   "cell_type": "code",
   "execution_count": 1,
   "metadata": {},
   "outputs": [],
   "source": [
    "import pandas as pd\n",
    "import numpy as np\n",
    "import matplotlib.pyplot as plt"
   ]
  },
  {
   "cell_type": "code",
   "execution_count": 2,
   "metadata": {},
   "outputs": [],
   "source": [
    "df = pd.read_csv('KI_features.csv', index_col='Unnamed: 0')"
   ]
  },
  {
   "cell_type": "code",
   "execution_count": 3,
   "metadata": {},
   "outputs": [
    {
     "name": "stdout",
     "output_type": "stream",
     "text": [
      "<class 'pandas.core.frame.DataFrame'>\n",
      "Int64Index: 166404 entries, 5 to 400280\n",
      "Columns: 160 entries, GENDER to DIAG_KI_3074\n",
      "dtypes: float64(8), int64(152)\n",
      "memory usage: 204.4 MB\n"
     ]
    }
   ],
   "source": [
    "df.info()"
   ]
  },
  {
   "cell_type": "code",
   "execution_count": 4,
   "metadata": {},
   "outputs": [
    {
     "data": {
      "text/html": [
       "<div>\n",
       "<style scoped>\n",
       "    .dataframe tbody tr th:only-of-type {\n",
       "        vertical-align: middle;\n",
       "    }\n",
       "\n",
       "    .dataframe tbody tr th {\n",
       "        vertical-align: top;\n",
       "    }\n",
       "\n",
       "    .dataframe thead th {\n",
       "        text-align: right;\n",
       "    }\n",
       "</style>\n",
       "<table border=\"1\" class=\"dataframe\">\n",
       "  <thead>\n",
       "    <tr style=\"text-align: right;\">\n",
       "      <th></th>\n",
       "      <th>GENDER</th>\n",
       "      <th>INIT_WGT_KG</th>\n",
       "      <th>INIT_HGT_CM</th>\n",
       "      <th>END_EPTS</th>\n",
       "      <th>INIT_AGE</th>\n",
       "      <th>INIT_BMI_CALC</th>\n",
       "      <th>DISTANCE</th>\n",
       "      <th>DAYSWAIT_CHRON_KI</th>\n",
       "      <th>ratio</th>\n",
       "      <th>ANTIBODY_TESTED_YA</th>\n",
       "      <th>...</th>\n",
       "      <th>DIAG_KI_3063</th>\n",
       "      <th>DIAG_KI_3064</th>\n",
       "      <th>DIAG_KI_3066</th>\n",
       "      <th>DIAG_KI_3068</th>\n",
       "      <th>DIAG_KI_3069</th>\n",
       "      <th>DIAG_KI_3070</th>\n",
       "      <th>DIAG_KI_3071</th>\n",
       "      <th>DIAG_KI_3072</th>\n",
       "      <th>DIAG_KI_3073</th>\n",
       "      <th>DIAG_KI_3074</th>\n",
       "    </tr>\n",
       "  </thead>\n",
       "  <tbody>\n",
       "    <tr>\n",
       "      <th>5</th>\n",
       "      <td>0</td>\n",
       "      <td>0.781752</td>\n",
       "      <td>0.774301</td>\n",
       "      <td>-0.081352</td>\n",
       "      <td>-0.750183</td>\n",
       "      <td>0.380087</td>\n",
       "      <td>-0.245505</td>\n",
       "      <td>184.0</td>\n",
       "      <td>-0.452993</td>\n",
       "      <td>0</td>\n",
       "      <td>...</td>\n",
       "      <td>0</td>\n",
       "      <td>0</td>\n",
       "      <td>0</td>\n",
       "      <td>0</td>\n",
       "      <td>1</td>\n",
       "      <td>0</td>\n",
       "      <td>0</td>\n",
       "      <td>0</td>\n",
       "      <td>0</td>\n",
       "      <td>0</td>\n",
       "    </tr>\n",
       "    <tr>\n",
       "      <th>28</th>\n",
       "      <td>1</td>\n",
       "      <td>-1.037128</td>\n",
       "      <td>-0.551874</td>\n",
       "      <td>-0.081352</td>\n",
       "      <td>-1.130134</td>\n",
       "      <td>-0.933057</td>\n",
       "      <td>0.893569</td>\n",
       "      <td>8.0</td>\n",
       "      <td>-0.452993</td>\n",
       "      <td>0</td>\n",
       "      <td>...</td>\n",
       "      <td>0</td>\n",
       "      <td>0</td>\n",
       "      <td>0</td>\n",
       "      <td>0</td>\n",
       "      <td>0</td>\n",
       "      <td>1</td>\n",
       "      <td>0</td>\n",
       "      <td>0</td>\n",
       "      <td>0</td>\n",
       "      <td>0</td>\n",
       "    </tr>\n",
       "    <tr>\n",
       "      <th>29</th>\n",
       "      <td>1</td>\n",
       "      <td>-0.914477</td>\n",
       "      <td>-0.054559</td>\n",
       "      <td>-0.081352</td>\n",
       "      <td>-0.306908</td>\n",
       "      <td>-1.123117</td>\n",
       "      <td>0.564042</td>\n",
       "      <td>289.0</td>\n",
       "      <td>-0.769778</td>\n",
       "      <td>0</td>\n",
       "      <td>...</td>\n",
       "      <td>0</td>\n",
       "      <td>0</td>\n",
       "      <td>0</td>\n",
       "      <td>0</td>\n",
       "      <td>1</td>\n",
       "      <td>0</td>\n",
       "      <td>0</td>\n",
       "      <td>0</td>\n",
       "      <td>0</td>\n",
       "      <td>0</td>\n",
       "    </tr>\n",
       "    <tr>\n",
       "      <th>48</th>\n",
       "      <td>1</td>\n",
       "      <td>-0.750985</td>\n",
       "      <td>0.111213</td>\n",
       "      <td>-0.081352</td>\n",
       "      <td>-0.876833</td>\n",
       "      <td>-1.019448</td>\n",
       "      <td>-0.442703</td>\n",
       "      <td>478.0</td>\n",
       "      <td>1.300809</td>\n",
       "      <td>0</td>\n",
       "      <td>...</td>\n",
       "      <td>0</td>\n",
       "      <td>0</td>\n",
       "      <td>0</td>\n",
       "      <td>0</td>\n",
       "      <td>1</td>\n",
       "      <td>0</td>\n",
       "      <td>0</td>\n",
       "      <td>0</td>\n",
       "      <td>0</td>\n",
       "      <td>0</td>\n",
       "    </tr>\n",
       "    <tr>\n",
       "      <th>57</th>\n",
       "      <td>0</td>\n",
       "      <td>2.028354</td>\n",
       "      <td>0.774301</td>\n",
       "      <td>-0.081352</td>\n",
       "      <td>0.326343</td>\n",
       "      <td>1.848735</td>\n",
       "      <td>-0.455676</td>\n",
       "      <td>3.0</td>\n",
       "      <td>0.282546</td>\n",
       "      <td>0</td>\n",
       "      <td>...</td>\n",
       "      <td>0</td>\n",
       "      <td>0</td>\n",
       "      <td>0</td>\n",
       "      <td>0</td>\n",
       "      <td>0</td>\n",
       "      <td>1</td>\n",
       "      <td>0</td>\n",
       "      <td>0</td>\n",
       "      <td>0</td>\n",
       "      <td>0</td>\n",
       "    </tr>\n",
       "  </tbody>\n",
       "</table>\n",
       "<p>5 rows × 160 columns</p>\n",
       "</div>"
      ],
      "text/plain": [
       "    GENDER  INIT_WGT_KG  INIT_HGT_CM  END_EPTS  INIT_AGE  INIT_BMI_CALC  \\\n",
       "5        0     0.781752     0.774301 -0.081352 -0.750183       0.380087   \n",
       "28       1    -1.037128    -0.551874 -0.081352 -1.130134      -0.933057   \n",
       "29       1    -0.914477    -0.054559 -0.081352 -0.306908      -1.123117   \n",
       "48       1    -0.750985     0.111213 -0.081352 -0.876833      -1.019448   \n",
       "57       0     2.028354     0.774301 -0.081352  0.326343       1.848735   \n",
       "\n",
       "    DISTANCE  DAYSWAIT_CHRON_KI     ratio  ANTIBODY_TESTED_YA  ...  \\\n",
       "5  -0.245505              184.0 -0.452993                   0  ...   \n",
       "28  0.893569                8.0 -0.452993                   0  ...   \n",
       "29  0.564042              289.0 -0.769778                   0  ...   \n",
       "48 -0.442703              478.0  1.300809                   0  ...   \n",
       "57 -0.455676                3.0  0.282546                   0  ...   \n",
       "\n",
       "    DIAG_KI_3063  DIAG_KI_3064  DIAG_KI_3066  DIAG_KI_3068  DIAG_KI_3069  \\\n",
       "5              0             0             0             0             1   \n",
       "28             0             0             0             0             0   \n",
       "29             0             0             0             0             1   \n",
       "48             0             0             0             0             1   \n",
       "57             0             0             0             0             0   \n",
       "\n",
       "    DIAG_KI_3070  DIAG_KI_3071  DIAG_KI_3072  DIAG_KI_3073  DIAG_KI_3074  \n",
       "5              0             0             0             0             0  \n",
       "28             1             0             0             0             0  \n",
       "29             0             0             0             0             0  \n",
       "48             0             0             0             0             0  \n",
       "57             1             0             0             0             0  \n",
       "\n",
       "[5 rows x 160 columns]"
      ]
     },
     "execution_count": 4,
     "metadata": {},
     "output_type": "execute_result"
    }
   ],
   "source": [
    "df.head()"
   ]
  },
  {
   "cell_type": "code",
   "execution_count": 5,
   "metadata": {},
   "outputs": [],
   "source": [
    "X = df.drop(columns='DAYSWAIT_CHRON_KI')\n",
    "y = df.DAYSWAIT_CHRON_KI"
   ]
  },
  {
   "cell_type": "code",
   "execution_count": 6,
   "metadata": {},
   "outputs": [
    {
     "name": "stdout",
     "output_type": "stream",
     "text": [
      "(166404, 159)\n",
      "(166404,)\n"
     ]
    }
   ],
   "source": [
    "print(X.shape)\n",
    "print(y.shape)"
   ]
  },
  {
   "cell_type": "code",
   "execution_count": 7,
   "metadata": {},
   "outputs": [],
   "source": [
    "from sklearn.model_selection import train_test_split\n",
    "X_train, X_test, y_train, y_test = train_test_split(X,y,test_size=0.25, random_state=1)"
   ]
  },
  {
   "cell_type": "code",
   "execution_count": 8,
   "metadata": {},
   "outputs": [
    {
     "data": {
      "text/plain": [
       "((124803, 159), (41601, 159))"
      ]
     },
     "execution_count": 8,
     "metadata": {},
     "output_type": "execute_result"
    }
   ],
   "source": [
    "X_train.shape, X_test.shape"
   ]
  },
  {
   "cell_type": "code",
   "execution_count": 9,
   "metadata": {},
   "outputs": [
    {
     "data": {
      "text/plain": [
       "((124803,), (41601,))"
      ]
     },
     "execution_count": 9,
     "metadata": {},
     "output_type": "execute_result"
    }
   ],
   "source": [
    "y_train.shape, y_test.shape"
   ]
  },
  {
   "cell_type": "markdown",
   "metadata": {},
   "source": [
    "### 1. Dummy Predictor (mean)"
   ]
  },
  {
   "cell_type": "code",
   "execution_count": 23,
   "metadata": {},
   "outputs": [
    {
     "data": {
      "text/plain": [
       "array([[552.42508594]])"
      ]
     },
     "execution_count": 23,
     "metadata": {},
     "output_type": "execute_result"
    }
   ],
   "source": [
    "from sklearn.dummy import DummyRegressor\n",
    "dumb = DummyRegressor(strategy='mean')\n",
    "dumb.fit(X_train, y_train)\n",
    "dumb.constant_"
   ]
  },
  {
   "cell_type": "code",
   "execution_count": 25,
   "metadata": {},
   "outputs": [],
   "source": [
    "y_pred = dumb.predict(X_test)\n",
    "y_tr_pred = dumb.predict(X_train)"
   ]
  },
  {
   "cell_type": "code",
   "execution_count": 10,
   "metadata": {},
   "outputs": [],
   "source": [
    "from sklearn.metrics import r2_score, mean_squared_error, mean_absolute_error"
   ]
  },
  {
   "cell_type": "code",
   "execution_count": 11,
   "metadata": {},
   "outputs": [],
   "source": [
    "def scores(y_test, y_pred):\n",
    "    print(\"R\\u00b2 : \" + str(r2_score(y_test, y_pred)))\n",
    "    print('RMSE : ' + str(np.sqrt(mean_squared_error(y_test, y_pred))))\n",
    "    print('MAE : ' + str(mean_absolute_error(y_test, y_pred)))"
   ]
  },
  {
   "cell_type": "code",
   "execution_count": 41,
   "metadata": {},
   "outputs": [
    {
     "name": "stdout",
     "output_type": "stream",
     "text": [
      "R² : 0.0\n",
      "RMSE : 612.0488557970633\n",
      "MAE : 473.5483690809973\n"
     ]
    }
   ],
   "source": [
    "# Train set\n",
    "scores(y_train, y_tr_pred)"
   ]
  },
  {
   "cell_type": "code",
   "execution_count": 42,
   "metadata": {},
   "outputs": [
    {
     "name": "stdout",
     "output_type": "stream",
     "text": [
      "R² : -1.6626326007962433e-05\n",
      "RMSE : 611.4015226263317\n",
      "MAE : 471.7979319314357\n"
     ]
    }
   ],
   "source": [
    "# Test set\n",
    "scores(y_test, y_pred)"
   ]
  },
  {
   "cell_type": "markdown",
   "metadata": {},
   "source": [
    "### 2. Linear Regression"
   ]
  },
  {
   "cell_type": "code",
   "execution_count": 62,
   "metadata": {},
   "outputs": [],
   "source": [
    "from sklearn.linear_model import LinearRegression\n",
    "lm = LinearRegression()\n",
    "lm.fit(X_train,y_train)\n",
    "y_tr_pred = lm.predict(X_train)\n",
    "y_pred = lm.predict(X_test)"
   ]
  },
  {
   "cell_type": "code",
   "execution_count": 63,
   "metadata": {},
   "outputs": [
    {
     "name": "stdout",
     "output_type": "stream",
     "text": [
      "R² : 0.13802139547851788\n",
      "RMSE : 568.2433126708262\n",
      "MAE : 437.4150125206701\n"
     ]
    }
   ],
   "source": [
    "# Train set\n",
    "scores(y_train, y_tr_pred)"
   ]
  },
  {
   "cell_type": "code",
   "execution_count": 64,
   "metadata": {},
   "outputs": [
    {
     "name": "stdout",
     "output_type": "stream",
     "text": [
      "R² : -7820639519136.08\n",
      "RMSE : 1709794988.1352375\n",
      "MAE : 8383294.797773205\n"
     ]
    }
   ],
   "source": [
    "# Test set\n",
    "scores(y_test, y_pred)"
   ]
  },
  {
   "cell_type": "markdown",
   "metadata": {},
   "source": [
    "It seems that the linear model is way worse than the dummy mean predictor. Perhaps there are ways to modify the linear model.\n",
    "\n",
    "#### Limiting k (number of features)"
   ]
  },
  {
   "cell_type": "code",
   "execution_count": 12,
   "metadata": {},
   "outputs": [],
   "source": [
    "from sklearn.pipeline import make_pipeline\n",
    "from sklearn.model_selection import cross_validate, GridSearchCV, RandomizedSearchCV\n",
    "from sklearn.feature_selection import SelectKBest, f_regression"
   ]
  },
  {
   "cell_type": "code",
   "execution_count": 53,
   "metadata": {},
   "outputs": [],
   "source": [
    "pipe = make_pipeline(SelectKBest(f_regression), LinearRegression())"
   ]
  },
  {
   "cell_type": "code",
   "execution_count": 54,
   "metadata": {},
   "outputs": [],
   "source": [
    "k = [k+1 for k in range(len(X_train.columns))]\n",
    "grid_params = {'selectkbest__k': k}"
   ]
  },
  {
   "cell_type": "code",
   "execution_count": 56,
   "metadata": {},
   "outputs": [
    {
     "name": "stderr",
     "output_type": "stream",
     "text": [
      "/opt/anaconda3/lib/python3.8/site-packages/sklearn/feature_selection/_univariate_selection.py:302: RuntimeWarning: invalid value encountered in true_divide\n",
      "  corr /= X_norms\n",
      "/opt/anaconda3/lib/python3.8/site-packages/scipy/stats/_distn_infrastructure.py:1932: RuntimeWarning: invalid value encountered in less_equal\n",
      "  cond2 = cond0 & (x <= _a)\n"
     ]
    },
    {
     "data": {
      "text/plain": [
       "RandomizedSearchCV(cv=5,\n",
       "                   estimator=Pipeline(steps=[('selectkbest',\n",
       "                                              SelectKBest(score_func=<function f_regression at 0x7fe31009adc0>)),\n",
       "                                             ('linearregression',\n",
       "                                              LinearRegression())]),\n",
       "                   n_jobs=-1,\n",
       "                   param_distributions={'selectkbest__k': [1, 2, 3, 4, 5, 6, 7,\n",
       "                                                           8, 9, 10, 11, 12, 13,\n",
       "                                                           14, 15, 16, 17, 18,\n",
       "                                                           19, 20, 21, 22, 23,\n",
       "                                                           24, 25, 26, 27, 28,\n",
       "                                                           29, 30, ...]})"
      ]
     },
     "execution_count": 56,
     "metadata": {},
     "output_type": "execute_result"
    }
   ],
   "source": [
    "lm_ran_cv = RandomizedSearchCV(pipe,param_distributions=grid_params, cv=5, n_jobs=-1)\n",
    "lm_ran_cv.fit(X_train, y_train)"
   ]
  },
  {
   "cell_type": "code",
   "execution_count": 57,
   "metadata": {},
   "outputs": [
    {
     "data": {
      "text/plain": [
       "{'selectkbest__k': 117}"
      ]
     },
     "execution_count": 57,
     "metadata": {},
     "output_type": "execute_result"
    }
   ],
   "source": [
    "lm_ran_cv.best_params_"
   ]
  },
  {
   "cell_type": "code",
   "execution_count": 59,
   "metadata": {},
   "outputs": [
    {
     "name": "stderr",
     "output_type": "stream",
     "text": [
      "/opt/anaconda3/lib/python3.8/site-packages/sklearn/feature_selection/_univariate_selection.py:302: RuntimeWarning: invalid value encountered in true_divide\n",
      "  corr /= X_norms\n",
      "/opt/anaconda3/lib/python3.8/site-packages/scipy/stats/_distn_infrastructure.py:1932: RuntimeWarning: invalid value encountered in less_equal\n",
      "  cond2 = cond0 & (x <= _a)\n"
     ]
    }
   ],
   "source": [
    "pipe = make_pipeline(SelectKBest(f_regression,k=117), LinearRegression())\n",
    "pipe.fit(X_train,y_train)\n",
    "y_tr_pred = pipe.predict(X_train)\n",
    "y_pred = pipe.predict(X_test)"
   ]
  },
  {
   "cell_type": "code",
   "execution_count": 60,
   "metadata": {},
   "outputs": [
    {
     "name": "stdout",
     "output_type": "stream",
     "text": [
      "R² : 0.11519073986777051\n",
      "RMSE : 575.7194740378079\n",
      "MAE : 441.1413230263487\n"
     ]
    }
   ],
   "source": [
    "# Train set\n",
    "scores(y_train, y_tr_pred)"
   ]
  },
  {
   "cell_type": "code",
   "execution_count": 61,
   "metadata": {},
   "outputs": [
    {
     "name": "stdout",
     "output_type": "stream",
     "text": [
      "R² : 0.11611761937665699\n",
      "RMSE : 574.804479521653\n",
      "MAE : 439.0813358980309\n"
     ]
    }
   ],
   "source": [
    "# Test set\n",
    "scores(y_test, y_pred)"
   ]
  },
  {
   "cell_type": "markdown",
   "metadata": {},
   "source": [
    "Only using k=117 definitely reduced the error. Still the linear predictor seems to be pretty bad.\n",
    "\n",
    "#### Elastic Net - Linear model with ridge and Lasso"
   ]
  },
  {
   "cell_type": "code",
   "execution_count": 65,
   "metadata": {},
   "outputs": [],
   "source": [
    "from sklearn.linear_model import ElasticNet"
   ]
  },
  {
   "cell_type": "code",
   "execution_count": 67,
   "metadata": {},
   "outputs": [
    {
     "data": {
      "text/plain": [
       "RandomizedSearchCV(cv=5, estimator=ElasticNet(), n_jobs=-1,\n",
       "                   param_distributions={'alpha': [1e-05, 0.0001, 0.001, 0.01,\n",
       "                                                  0.1, 0.0, 1.0, 10.0, 100.0],\n",
       "                                        'l1_ratio': array([0.  , 0.01, 0.02, 0.03, 0.04, 0.05, 0.06, 0.07, 0.08, 0.09, 0.1 ,\n",
       "       0.11, 0.12, 0.13, 0.14, 0.15, 0.16, 0.17, 0.18, 0.19, 0.2 , 0.21,\n",
       "       0.22, 0.23, 0.24, 0.25, 0.26, 0.27, 0.28, 0.29, 0.3 , 0.31, 0.32,\n",
       "       0.33, 0.34, 0.35, 0.36, 0.37, 0.38, 0.39, 0.4 , 0.41, 0.42, 0.43,\n",
       "       0.44, 0.45, 0.46, 0.47, 0.48, 0.49, 0.5 , 0.51, 0.52, 0.53, 0.54,\n",
       "       0.55, 0.56, 0.57, 0.58, 0.59, 0.6 , 0.61, 0.62, 0.63, 0.64, 0.65,\n",
       "       0.66, 0.67, 0.68, 0.69, 0.7 , 0.71, 0.72, 0.73, 0.74, 0.75, 0.76,\n",
       "       0.77, 0.78, 0.79, 0.8 , 0.81, 0.82, 0.83, 0.84, 0.85, 0.86, 0.87,\n",
       "       0.88, 0.89, 0.9 , 0.91, 0.92, 0.93, 0.94, 0.95, 0.96, 0.97, 0.98,\n",
       "       0.99])})"
      ]
     },
     "execution_count": 67,
     "metadata": {},
     "output_type": "execute_result"
    }
   ],
   "source": [
    "en=ElasticNet()\n",
    "grid_params={'alpha':[1e-5, 1e-4, 1e-3, 1e-2, 1e-1, 0.0, 1.0, 10.0, 100.0], 'l1_ratio':np.arange(0, 1, 0.01)}\n",
    "en_ran_cv = RandomizedSearchCV(en,param_distributions=grid_params, cv=5, n_jobs=-1)\n",
    "en_ran_cv.fit(X_train, y_train)"
   ]
  },
  {
   "cell_type": "code",
   "execution_count": 68,
   "metadata": {},
   "outputs": [
    {
     "data": {
      "text/plain": [
       "{'l1_ratio': 0.84, 'alpha': 0.001}"
      ]
     },
     "execution_count": 68,
     "metadata": {},
     "output_type": "execute_result"
    }
   ],
   "source": [
    "en_ran_cv.best_params_"
   ]
  },
  {
   "cell_type": "code",
   "execution_count": 69,
   "metadata": {},
   "outputs": [],
   "source": [
    "en_best = ElasticNet(alpha=0.001, l1_ratio=0.84)\n",
    "en_best.fit(X_train, y_train)\n",
    "y_tr_pred = en_best.predict(X_train)\n",
    "y_pred = en_best.predict(X_test)"
   ]
  },
  {
   "cell_type": "code",
   "execution_count": 70,
   "metadata": {},
   "outputs": [
    {
     "name": "stdout",
     "output_type": "stream",
     "text": [
      "R² : 0.137889020228253\n",
      "RMSE : 568.2869439527348\n",
      "MAE : 437.4581267832327\n"
     ]
    }
   ],
   "source": [
    "# Train set\n",
    "scores(y_train, y_tr_pred)"
   ]
  },
  {
   "cell_type": "code",
   "execution_count": 71,
   "metadata": {},
   "outputs": [
    {
     "name": "stdout",
     "output_type": "stream",
     "text": [
      "R² : 0.13743140163428924\n",
      "RMSE : 567.8318222563344\n",
      "MAE : 435.8828676658136\n"
     ]
    }
   ],
   "source": [
    "# Test set\n",
    "scores(y_test, y_pred)"
   ]
  },
  {
   "cell_type": "markdown",
   "metadata": {},
   "source": [
    "It seems that elastic net helped the prediction, but not that much.\n",
    "If I'm not doing any dimensionality reduction such as PCA, I won't consider linear regression model at all."
   ]
  },
  {
   "cell_type": "markdown",
   "metadata": {},
   "source": [
    "### 3. Random Forest"
   ]
  },
  {
   "cell_type": "code",
   "execution_count": 13,
   "metadata": {},
   "outputs": [],
   "source": [
    "from sklearn.ensemble import RandomForestRegressor\n",
    "RF = RandomForestRegressor(random_state=1,max_depth=3, n_jobs=-1)\n",
    "RF.fit(X_train,y_train)\n",
    "y_tr_pred=RF.predict(X_train)\n",
    "y_pred=RF.predict(X_test)"
   ]
  },
  {
   "cell_type": "code",
   "execution_count": 14,
   "metadata": {},
   "outputs": [
    {
     "name": "stdout",
     "output_type": "stream",
     "text": [
      "R² : 0.09033266839984233\n",
      "RMSE : 583.7506666940285\n",
      "MAE : 443.0272405148432\n"
     ]
    }
   ],
   "source": [
    "# Train set\n",
    "scores(y_train, y_tr_pred)"
   ]
  },
  {
   "cell_type": "code",
   "execution_count": 15,
   "metadata": {},
   "outputs": [
    {
     "name": "stdout",
     "output_type": "stream",
     "text": [
      "R² : 0.09310990496081539\n",
      "RMSE : 582.2375823731577\n",
      "MAE : 440.84668933343374\n"
     ]
    }
   ],
   "source": [
    "# Test set\n",
    "scores(y_test, y_pred)"
   ]
  },
  {
   "cell_type": "markdown",
   "metadata": {},
   "source": [
    "Unfortunately, randomforest is not doing so well."
   ]
  },
  {
   "cell_type": "code",
   "execution_count": 17,
   "metadata": {},
   "outputs": [
    {
     "data": {
      "text/plain": [
       "RandomizedSearchCV(cv=5,\n",
       "                   estimator=RandomForestRegressor(n_jobs=-1, random_state=1),\n",
       "                   n_jobs=-1,\n",
       "                   param_distributions={'max_depth': [3, 4, 5],\n",
       "                                        'n_estimators': [10, 100, 200, 500,\n",
       "                                                         1000, 2000]})"
      ]
     },
     "execution_count": 17,
     "metadata": {},
     "output_type": "execute_result"
    }
   ],
   "source": [
    "n_estimators = [10,100,200,500,1000,2000]\n",
    "RF = RandomForestRegressor(random_state=1, n_jobs=-1)\n",
    "grid_params={'n_estimators':n_estimators, 'max_depth':[3,4,5]}\n",
    "RF_cv = RandomizedSearchCV(RF,param_distributions=grid_params, cv=5, n_jobs=-1)\n",
    "RF_cv.fit(X_train,y_train)"
   ]
  },
  {
   "cell_type": "code",
   "execution_count": 19,
   "metadata": {},
   "outputs": [
    {
     "data": {
      "text/plain": [
       "{'n_estimators': 200, 'max_depth': 5}"
      ]
     },
     "execution_count": 19,
     "metadata": {},
     "output_type": "execute_result"
    }
   ],
   "source": [
    "RF_cv.best_params_"
   ]
  },
  {
   "cell_type": "code",
   "execution_count": 20,
   "metadata": {},
   "outputs": [],
   "source": [
    "RF_b = RandomForestRegressor(random_state=1, n_estimators=200, max_depth = 5, n_jobs=-1)\n",
    "RF_b.fit(X_train,y_train)\n",
    "y_tr_pred = RF_b.predict(X_train)\n",
    "y_pred = RF_b.predict(X_test)"
   ]
  },
  {
   "cell_type": "code",
   "execution_count": 21,
   "metadata": {},
   "outputs": [
    {
     "name": "stdout",
     "output_type": "stream",
     "text": [
      "R² : 0.13488176720307132\n",
      "RMSE : 569.2772427241356\n",
      "MAE : 431.33402430541116\n"
     ]
    }
   ],
   "source": [
    "# Train set\n",
    "scores(y_train, y_tr_pred)"
   ]
  },
  {
   "cell_type": "code",
   "execution_count": 22,
   "metadata": {},
   "outputs": [
    {
     "name": "stdout",
     "output_type": "stream",
     "text": [
      "R² : 0.13609775397675716\n",
      "RMSE : 568.2706250888789\n",
      "MAE : 429.72148608202605\n"
     ]
    }
   ],
   "source": [
    "# Test set\n",
    "scores(y_test, y_pred)"
   ]
  },
  {
   "cell_type": "code",
   "execution_count": 23,
   "metadata": {},
   "outputs": [
    {
     "name": "stderr",
     "output_type": "stream",
     "text": [
      "/opt/anaconda3/lib/python3.8/site-packages/sklearn/model_selection/_search.py:278: UserWarning: The total space of parameters 9 is smaller than n_iter=10. Running 9 iterations. For exhaustive searches, use GridSearchCV.\n",
      "  warnings.warn(\n"
     ]
    },
    {
     "data": {
      "text/plain": [
       "RandomizedSearchCV(cv=5,\n",
       "                   estimator=RandomForestRegressor(n_jobs=-1, random_state=1),\n",
       "                   n_jobs=-1,\n",
       "                   param_distributions={'max_depth': [5, 6, 7],\n",
       "                                        'n_estimators': [100, 200, 500]})"
      ]
     },
     "execution_count": 23,
     "metadata": {},
     "output_type": "execute_result"
    }
   ],
   "source": [
    "n_estimators = [100,200,500]\n",
    "RF = RandomForestRegressor(random_state=1, n_jobs=-1)\n",
    "grid_params={'n_estimators':n_estimators, 'max_depth':[5,6,7]}\n",
    "RF_cv = RandomizedSearchCV(RF,param_distributions=grid_params, cv=5, n_jobs=-1)\n",
    "RF_cv.fit(X_train,y_train)"
   ]
  },
  {
   "cell_type": "code",
   "execution_count": 24,
   "metadata": {},
   "outputs": [
    {
     "data": {
      "text/plain": [
       "{'n_estimators': 500, 'max_depth': 7}"
      ]
     },
     "execution_count": 24,
     "metadata": {},
     "output_type": "execute_result"
    }
   ],
   "source": [
    "RF_cv.best_params_"
   ]
  },
  {
   "cell_type": "code",
   "execution_count": 25,
   "metadata": {},
   "outputs": [],
   "source": [
    "RF_c = RandomForestRegressor(random_state=1, n_estimators=500, max_depth = 7, n_jobs=-1)\n",
    "RF_c.fit(X_train,y_train)\n",
    "y_tr_pred = RF_c.predict(X_train)\n",
    "y_pred = RF_c.predict(X_test)"
   ]
  },
  {
   "cell_type": "code",
   "execution_count": 26,
   "metadata": {},
   "outputs": [
    {
     "name": "stdout",
     "output_type": "stream",
     "text": [
      "R² : 0.1909458373938968\n",
      "RMSE : 550.5222658904034\n",
      "MAE : 415.29712123750477\n"
     ]
    }
   ],
   "source": [
    "# Train set\n",
    "scores(y_train, y_tr_pred)"
   ]
  },
  {
   "cell_type": "code",
   "execution_count": 28,
   "metadata": {},
   "outputs": [
    {
     "name": "stdout",
     "output_type": "stream",
     "text": [
      "R² : 0.1870456942363381\n",
      "RMSE : 551.2593560313635\n",
      "MAE : 414.75707775437917\n"
     ]
    }
   ],
   "source": [
    "# Test set\n",
    "scores(y_test, y_pred)"
   ]
  },
  {
   "cell_type": "code",
   "execution_count": 32,
   "metadata": {},
   "outputs": [
    {
     "data": {
      "text/plain": [
       "RandomizedSearchCV(cv=5,\n",
       "                   estimator=RandomForestRegressor(n_jobs=-1, random_state=1),\n",
       "                   n_jobs=-1,\n",
       "                   param_distributions={'max_depth': [7, 8, 9, 10],\n",
       "                                        'n_estimators': [100, 200, 500, 700]})"
      ]
     },
     "execution_count": 32,
     "metadata": {},
     "output_type": "execute_result"
    }
   ],
   "source": [
    "n_estimators = [100,200,500,700]\n",
    "RF = RandomForestRegressor(random_state=1, n_jobs=-1)\n",
    "grid_params={'n_estimators':n_estimators, 'max_depth':[7,8,9,10]}\n",
    "RF_cv = RandomizedSearchCV(RF,param_distributions=grid_params, cv=5, n_jobs=-1)\n",
    "RF_cv.fit(X_train,y_train)"
   ]
  },
  {
   "cell_type": "code",
   "execution_count": 33,
   "metadata": {},
   "outputs": [
    {
     "data": {
      "text/plain": [
       "{'n_estimators': 700, 'max_depth': 10}"
      ]
     },
     "execution_count": 33,
     "metadata": {},
     "output_type": "execute_result"
    }
   ],
   "source": [
    "RF_cv.best_params_"
   ]
  },
  {
   "cell_type": "code",
   "execution_count": 34,
   "metadata": {},
   "outputs": [],
   "source": [
    "RF_d = RandomForestRegressor(random_state=1, n_estimators=700, max_depth = 10, n_jobs=-1)\n",
    "RF_d.fit(X_train,y_train)\n",
    "y_tr_pred = RF_d.predict(X_train)\n",
    "y_pred = RF_d.predict(X_test)"
   ]
  },
  {
   "cell_type": "code",
   "execution_count": 35,
   "metadata": {},
   "outputs": [
    {
     "name": "stdout",
     "output_type": "stream",
     "text": [
      "R² : 0.28654410774064043\n",
      "RMSE : 516.9751345237248\n",
      "MAE : 388.335845484251\n"
     ]
    }
   ],
   "source": [
    "# Train set\n",
    "scores(y_train, y_tr_pred)"
   ]
  },
  {
   "cell_type": "code",
   "execution_count": 36,
   "metadata": {},
   "outputs": [
    {
     "name": "stdout",
     "output_type": "stream",
     "text": [
      "R² : 0.2651731579991472\n",
      "RMSE : 524.1015107859769\n",
      "MAE : 393.3098398503149\n"
     ]
    }
   ],
   "source": [
    "# Test set\n",
    "scores(y_test, y_pred)"
   ]
  },
  {
   "cell_type": "markdown",
   "metadata": {},
   "source": [
    "As I continue to do random search and modify the randomforest regressor, the $R^2$ value increased from 0.09 to 0.28. I can further search out for better model, but each search takes hours. For healthcare data 0.3 seems to be a good enough relationship. I will be stopping here for now and look into features."
   ]
  },
  {
   "cell_type": "code",
   "execution_count": 37,
   "metadata": {},
   "outputs": [
    {
     "name": "stdout",
     "output_type": "stream",
     "text": [
      "30\n"
     ]
    },
    {
     "data": {
      "image/png": "[encoded data removed]",
      "text/plain": [
       "<Figure size 720x720 with 1 Axes>"
      ]
     },
     "metadata": {
      "needs_background": "light"
     },
     "output_type": "display_data"
    }
   ],
   "source": [
    "feature_importance = RF_d.feature_importances_\n",
    "# make importances relative to max importance\n",
    "feature_importance = 100.0 * (feature_importance / feature_importance.max())[:30]\n",
    "sorted_idx = np.argsort(feature_importance)[:30]\n",
    "\n",
    "pos = np.arange(sorted_idx.shape[0]) + .5\n",
    "print(pos.size)\n",
    "sorted_idx.size\n",
    "plt.figure(figsize=(10,10))\n",
    "plt.barh(pos, feature_importance[sorted_idx], align='center')\n",
    "plt.yticks(pos, X.columns[sorted_idx])\n",
    "plt.xlabel('Relative Importance')\n",
    "plt.title('Variable Importance')\n",
    "plt.show()"
   ]
  },
  {
   "cell_type": "markdown",
   "metadata": {},
   "source": [
    "The above graph shows the importance of features in the waitlist days for a patient. For those above 50% importance are \n",
    "<br>__END_EPTS__ : calculated survival rate,\n",
    "<br>__INIT_AGE__ : Age of admission, and \n",
    "<br>__DISTANCE__ : distance from donor hospital from treatment center.\n",
    "\n",
    "Further modifying the Randomforest model will change the feature importance as well, but so far I can conclude that survival rate, age and distance are important features."
   ]
  },
  {
   "cell_type": "markdown",
   "metadata": {},
   "source": [
    "### 4. Conclusion"
   ]
  },
  {
   "cell_type": "markdown",
   "metadata": {},
   "source": [
    "In this notebook, I was able to utilize machine learning algorithms to find the best predictor for the kidney waitlist patients. Overall, the prediction was not very successful. The fact that I'm dealing with healthcare data, and I've reduced the columns from 470 to 15 suggests that I may have missed several important features for my prediction. However, with the random variables in healthcare also complicate my prediction model wich made me accept $R^2$ value of 0.3 as a good enough prediction.\n",
    "\n",
    "As shown above, the linear models did poorly. In terms of randomforest method, initially the predictor was as bad as linear regression, but as I tuned the hyperparameters, the model improved much. I have stopped due to my computer not being able to handle too much computation, but I can see that there could be much more improvements with continued iterations.\n",
    "\n",
    "From the predicting model, I was able to conclude that important features to conclude in patient waitlist time is the calculated patient's survival rate, patient's age of admission, and the distance from donor hospital from treatment center. "
   ]
  },
  {
   "cell_type": "code",
   "execution_count": null,
   "metadata": {},
   "outputs": [],
   "source": []
  }
 ],
 "metadata": {
  "kernelspec": {
   "display_name": "Python 3",
   "language": "python",
   "name": "python3"
  },
  "language_info": {
   "codemirror_mode": {
    "name": "ipython",
    "version": 3
   },
   "file_extension": ".py",
   "mimetype": "text/x-python",
   "name": "python",
   "nbconvert_exporter": "python",
   "pygments_lexer": "ipython3",
   "version": "3.8.3"
  }
 },
 "nbformat": 4,
 "nbformat_minor": 4
}
