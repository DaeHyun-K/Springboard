{
 "cells": [
  {
   "cell_type": "markdown",
   "metadata": {},
   "source": [
    "## Disclaimer\n",
    "\n",
    "“The data reported here have been supplied by the United Network for Organ Sharing as the contractor for the Organ Procurement and Transplantation Network. The interpretation and reporting of these data are the responsibility of the author(s) and in no way should be seen as an official policy of or interpretation by the OPTN or the U.S. Government.”\n",
    "\n",
    "This research was performed based on OPTN data as of July 15, 2021."
   ]
  },
  {
   "cell_type": "markdown",
   "metadata": {},
   "source": [
    "## Preprocessing and Training Data Development\n",
    "\n",
    "For this part of the project, I need to do three steps.\n",
    "\n",
    "1. Create dummy or indicator features for categorical variables\n",
    "2. Standardize the magnitude of numeric features using a scaler\n",
    "3. Split your data into testing and training datasets"
   ]
  },
  {
   "cell_type": "code",
   "execution_count": 1,
   "metadata": {},
   "outputs": [],
   "source": [
    "import pandas as pd\n",
    "import numpy as np\n",
    "import matplotlib.pyplot as plt"
   ]
  },
  {
   "cell_type": "code",
   "execution_count": 6,
   "metadata": {},
   "outputs": [],
   "source": [
    "df = pd.read_csv('kidney.csv', index_col='Unnamed: 0')"
   ]
  },
  {
   "cell_type": "code",
   "execution_count": 7,
   "metadata": {},
   "outputs": [
    {
     "name": "stdout",
     "output_type": "stream",
     "text": [
      "<class 'pandas.core.frame.DataFrame'>\n",
      "Int64Index: 400542 entries, 0 to 400541\n",
      "Data columns (total 35 columns):\n",
      " #   Column             Non-Null Count   Dtype  \n",
      "---  ------             --------------   -----  \n",
      " 0   GFR                172834 non-null  float64\n",
      " 1   ANTIBODY_TESTED    350916 non-null  object \n",
      " 2   GENDER             400542 non-null  int64  \n",
      " 3   ABO                400542 non-null  object \n",
      " 4   PERM_STATE         399721 non-null  object \n",
      " 5   DGN_TCR            400542 non-null  int64  \n",
      " 6   DIAB               400542 non-null  int64  \n",
      " 7   INIT_WGT_KG        400542 non-null  float64\n",
      " 8   INIT_HGT_CM        400542 non-null  float64\n",
      " 9   INIT_EPTS          267785 non-null  float64\n",
      " 10  END_EPTS           340828 non-null  float64\n",
      " 11  INIT_AGE           400542 non-null  int64  \n",
      " 12  INIT_DATE          400542 non-null  object \n",
      " 13  ETHCAT             400542 non-null  int64  \n",
      " 14  INIT_BMI_CALC      400542 non-null  float64\n",
      " 15  PERM_STATE_TRR     163687 non-null  object \n",
      " 16  TX_DATE            166421 non-null  object \n",
      " 17  NPKID              166421 non-null  float64\n",
      " 18  AGE_DON            166419 non-null  float64\n",
      " 19  ETHCAT_DON         166421 non-null  float64\n",
      " 20  ABO_DON            166421 non-null  object \n",
      " 21  GENDER_DON         166421 non-null  float64\n",
      " 22  HOME_STATE_DON     163145 non-null  object \n",
      " 23  ABO_MAT            166421 non-null  float64\n",
      " 24  AGE                166421 non-null  float64\n",
      " 25  DISTANCE           166421 non-null  float64\n",
      " 26  DIAG_KI            165537 non-null  float64\n",
      " 27  DIAG_OSTXT_KI      11783 non-null   object \n",
      " 28  DAYSWAIT_CHRON_KI  166421 non-null  float64\n",
      " 29  ORGAN              166421 non-null  object \n",
      " 30  BMI_CALC           166357 non-null  float64\n",
      " 31  TRR_ID_CODE        166421 non-null  object \n",
      " 32  CTR_CODE           166421 non-null  float64\n",
      " 33  LISTING_CTR_CODE   400542 non-null  int64  \n",
      " 34  year               400542 non-null  int64  \n",
      "dtypes: float64(17), int64(7), object(11)\n",
      "memory usage: 110.0+ MB\n"
     ]
    }
   ],
   "source": [
    "df.info()"
   ]
  },
  {
   "cell_type": "code",
   "execution_count": 8,
   "metadata": {},
   "outputs": [
    {
     "data": {
      "text/html": [
       "<div>\n",
       "<style scoped>\n",
       "    .dataframe tbody tr th:only-of-type {\n",
       "        vertical-align: middle;\n",
       "    }\n",
       "\n",
       "    .dataframe tbody tr th {\n",
       "        vertical-align: top;\n",
       "    }\n",
       "\n",
       "    .dataframe thead th {\n",
       "        text-align: right;\n",
       "    }\n",
       "</style>\n",
       "<table border=\"1\" class=\"dataframe\">\n",
       "  <thead>\n",
       "    <tr style=\"text-align: right;\">\n",
       "      <th></th>\n",
       "      <th>0</th>\n",
       "      <th>1</th>\n",
       "      <th>2</th>\n",
       "      <th>3</th>\n",
       "      <th>4</th>\n",
       "    </tr>\n",
       "  </thead>\n",
       "  <tbody>\n",
       "    <tr>\n",
       "      <th>GFR</th>\n",
       "      <td>19</td>\n",
       "      <td>NaN</td>\n",
       "      <td>NaN</td>\n",
       "      <td>NaN</td>\n",
       "      <td>NaN</td>\n",
       "    </tr>\n",
       "    <tr>\n",
       "      <th>ANTIBODY_TESTED</th>\n",
       "      <td>YA</td>\n",
       "      <td>YN</td>\n",
       "      <td>NaN</td>\n",
       "      <td>NaN</td>\n",
       "      <td>YA</td>\n",
       "    </tr>\n",
       "    <tr>\n",
       "      <th>GENDER</th>\n",
       "      <td>0</td>\n",
       "      <td>0</td>\n",
       "      <td>1</td>\n",
       "      <td>1</td>\n",
       "      <td>1</td>\n",
       "    </tr>\n",
       "    <tr>\n",
       "      <th>ABO</th>\n",
       "      <td>O</td>\n",
       "      <td>A</td>\n",
       "      <td>O</td>\n",
       "      <td>B</td>\n",
       "      <td>A</td>\n",
       "    </tr>\n",
       "    <tr>\n",
       "      <th>PERM_STATE</th>\n",
       "      <td>CA</td>\n",
       "      <td>CA</td>\n",
       "      <td>FL</td>\n",
       "      <td>SC</td>\n",
       "      <td>SC</td>\n",
       "    </tr>\n",
       "    <tr>\n",
       "      <th>DGN_TCR</th>\n",
       "      <td>3037</td>\n",
       "      <td>3011</td>\n",
       "      <td>3069</td>\n",
       "      <td>3070</td>\n",
       "      <td>3069</td>\n",
       "    </tr>\n",
       "    <tr>\n",
       "      <th>DIAB</th>\n",
       "      <td>5</td>\n",
       "      <td>5</td>\n",
       "      <td>2</td>\n",
       "      <td>2</td>\n",
       "      <td>2</td>\n",
       "    </tr>\n",
       "    <tr>\n",
       "      <th>INIT_WGT_KG</th>\n",
       "      <td>68.039</td>\n",
       "      <td>70.307</td>\n",
       "      <td>67.5</td>\n",
       "      <td>58</td>\n",
       "      <td>53</td>\n",
       "    </tr>\n",
       "    <tr>\n",
       "      <th>INIT_HGT_CM</th>\n",
       "      <td>175.26</td>\n",
       "      <td>182.88</td>\n",
       "      <td>162.56</td>\n",
       "      <td>153</td>\n",
       "      <td>155</td>\n",
       "    </tr>\n",
       "    <tr>\n",
       "      <th>INIT_EPTS</th>\n",
       "      <td>46</td>\n",
       "      <td>69</td>\n",
       "      <td>NaN</td>\n",
       "      <td>NaN</td>\n",
       "      <td>NaN</td>\n",
       "    </tr>\n",
       "    <tr>\n",
       "      <th>END_EPTS</th>\n",
       "      <td>46</td>\n",
       "      <td>84</td>\n",
       "      <td>NaN</td>\n",
       "      <td>NaN</td>\n",
       "      <td>73</td>\n",
       "    </tr>\n",
       "    <tr>\n",
       "      <th>INIT_AGE</th>\n",
       "      <td>53</td>\n",
       "      <td>45</td>\n",
       "      <td>34</td>\n",
       "      <td>43</td>\n",
       "      <td>42</td>\n",
       "    </tr>\n",
       "    <tr>\n",
       "      <th>INIT_DATE</th>\n",
       "      <td>2016-07-18</td>\n",
       "      <td>2014-11-26</td>\n",
       "      <td>2011-07-06</td>\n",
       "      <td>2011-07-13</td>\n",
       "      <td>2012-02-17</td>\n",
       "    </tr>\n",
       "    <tr>\n",
       "      <th>ETHCAT</th>\n",
       "      <td>7</td>\n",
       "      <td>1</td>\n",
       "      <td>2</td>\n",
       "      <td>1</td>\n",
       "      <td>2</td>\n",
       "    </tr>\n",
       "    <tr>\n",
       "      <th>INIT_BMI_CALC</th>\n",
       "      <td>22.2</td>\n",
       "      <td>21</td>\n",
       "      <td>25.5</td>\n",
       "      <td>24.8</td>\n",
       "      <td>22.1</td>\n",
       "    </tr>\n",
       "    <tr>\n",
       "      <th>PERM_STATE_TRR</th>\n",
       "      <td>NaN</td>\n",
       "      <td>NaN</td>\n",
       "      <td>NaN</td>\n",
       "      <td>NaN</td>\n",
       "      <td>NaN</td>\n",
       "    </tr>\n",
       "    <tr>\n",
       "      <th>TX_DATE</th>\n",
       "      <td>NaN</td>\n",
       "      <td>NaN</td>\n",
       "      <td>NaN</td>\n",
       "      <td>NaN</td>\n",
       "      <td>NaN</td>\n",
       "    </tr>\n",
       "    <tr>\n",
       "      <th>NPKID</th>\n",
       "      <td>NaN</td>\n",
       "      <td>NaN</td>\n",
       "      <td>NaN</td>\n",
       "      <td>NaN</td>\n",
       "      <td>NaN</td>\n",
       "    </tr>\n",
       "    <tr>\n",
       "      <th>AGE_DON</th>\n",
       "      <td>NaN</td>\n",
       "      <td>NaN</td>\n",
       "      <td>NaN</td>\n",
       "      <td>NaN</td>\n",
       "      <td>NaN</td>\n",
       "    </tr>\n",
       "    <tr>\n",
       "      <th>ETHCAT_DON</th>\n",
       "      <td>NaN</td>\n",
       "      <td>NaN</td>\n",
       "      <td>NaN</td>\n",
       "      <td>NaN</td>\n",
       "      <td>NaN</td>\n",
       "    </tr>\n",
       "    <tr>\n",
       "      <th>ABO_DON</th>\n",
       "      <td>NaN</td>\n",
       "      <td>NaN</td>\n",
       "      <td>NaN</td>\n",
       "      <td>NaN</td>\n",
       "      <td>NaN</td>\n",
       "    </tr>\n",
       "    <tr>\n",
       "      <th>GENDER_DON</th>\n",
       "      <td>NaN</td>\n",
       "      <td>NaN</td>\n",
       "      <td>NaN</td>\n",
       "      <td>NaN</td>\n",
       "      <td>NaN</td>\n",
       "    </tr>\n",
       "    <tr>\n",
       "      <th>HOME_STATE_DON</th>\n",
       "      <td>NaN</td>\n",
       "      <td>NaN</td>\n",
       "      <td>NaN</td>\n",
       "      <td>NaN</td>\n",
       "      <td>NaN</td>\n",
       "    </tr>\n",
       "    <tr>\n",
       "      <th>ABO_MAT</th>\n",
       "      <td>NaN</td>\n",
       "      <td>NaN</td>\n",
       "      <td>NaN</td>\n",
       "      <td>NaN</td>\n",
       "      <td>NaN</td>\n",
       "    </tr>\n",
       "    <tr>\n",
       "      <th>AGE</th>\n",
       "      <td>NaN</td>\n",
       "      <td>NaN</td>\n",
       "      <td>NaN</td>\n",
       "      <td>NaN</td>\n",
       "      <td>NaN</td>\n",
       "    </tr>\n",
       "    <tr>\n",
       "      <th>DISTANCE</th>\n",
       "      <td>NaN</td>\n",
       "      <td>NaN</td>\n",
       "      <td>NaN</td>\n",
       "      <td>NaN</td>\n",
       "      <td>NaN</td>\n",
       "    </tr>\n",
       "    <tr>\n",
       "      <th>DIAG_KI</th>\n",
       "      <td>NaN</td>\n",
       "      <td>NaN</td>\n",
       "      <td>NaN</td>\n",
       "      <td>NaN</td>\n",
       "      <td>NaN</td>\n",
       "    </tr>\n",
       "    <tr>\n",
       "      <th>DIAG_OSTXT_KI</th>\n",
       "      <td>NaN</td>\n",
       "      <td>NaN</td>\n",
       "      <td>NaN</td>\n",
       "      <td>NaN</td>\n",
       "      <td>NaN</td>\n",
       "    </tr>\n",
       "    <tr>\n",
       "      <th>DAYSWAIT_CHRON_KI</th>\n",
       "      <td>NaN</td>\n",
       "      <td>NaN</td>\n",
       "      <td>NaN</td>\n",
       "      <td>NaN</td>\n",
       "      <td>NaN</td>\n",
       "    </tr>\n",
       "    <tr>\n",
       "      <th>ORGAN</th>\n",
       "      <td>NaN</td>\n",
       "      <td>NaN</td>\n",
       "      <td>NaN</td>\n",
       "      <td>NaN</td>\n",
       "      <td>NaN</td>\n",
       "    </tr>\n",
       "    <tr>\n",
       "      <th>BMI_CALC</th>\n",
       "      <td>NaN</td>\n",
       "      <td>NaN</td>\n",
       "      <td>NaN</td>\n",
       "      <td>NaN</td>\n",
       "      <td>NaN</td>\n",
       "    </tr>\n",
       "    <tr>\n",
       "      <th>TRR_ID_CODE</th>\n",
       "      <td>NaN</td>\n",
       "      <td>NaN</td>\n",
       "      <td>NaN</td>\n",
       "      <td>NaN</td>\n",
       "      <td>NaN</td>\n",
       "    </tr>\n",
       "    <tr>\n",
       "      <th>CTR_CODE</th>\n",
       "      <td>NaN</td>\n",
       "      <td>NaN</td>\n",
       "      <td>NaN</td>\n",
       "      <td>NaN</td>\n",
       "      <td>NaN</td>\n",
       "    </tr>\n",
       "    <tr>\n",
       "      <th>LISTING_CTR_CODE</th>\n",
       "      <td>21080</td>\n",
       "      <td>15283</td>\n",
       "      <td>248</td>\n",
       "      <td>11532</td>\n",
       "      <td>11532</td>\n",
       "    </tr>\n",
       "    <tr>\n",
       "      <th>year</th>\n",
       "      <td>2016</td>\n",
       "      <td>2014</td>\n",
       "      <td>2011</td>\n",
       "      <td>2011</td>\n",
       "      <td>2012</td>\n",
       "    </tr>\n",
       "  </tbody>\n",
       "</table>\n",
       "</div>"
      ],
      "text/plain": [
       "                            0           1           2           3           4\n",
       "GFR                        19         NaN         NaN         NaN         NaN\n",
       "ANTIBODY_TESTED            YA          YN         NaN         NaN          YA\n",
       "GENDER                      0           0           1           1           1\n",
       "ABO                         O           A           O           B           A\n",
       "PERM_STATE                 CA          CA          FL          SC          SC\n",
       "DGN_TCR                  3037        3011        3069        3070        3069\n",
       "DIAB                        5           5           2           2           2\n",
       "INIT_WGT_KG            68.039      70.307        67.5          58          53\n",
       "INIT_HGT_CM            175.26      182.88      162.56         153         155\n",
       "INIT_EPTS                  46          69         NaN         NaN         NaN\n",
       "END_EPTS                   46          84         NaN         NaN          73\n",
       "INIT_AGE                   53          45          34          43          42\n",
       "INIT_DATE          2016-07-18  2014-11-26  2011-07-06  2011-07-13  2012-02-17\n",
       "ETHCAT                      7           1           2           1           2\n",
       "INIT_BMI_CALC            22.2          21        25.5        24.8        22.1\n",
       "PERM_STATE_TRR            NaN         NaN         NaN         NaN         NaN\n",
       "TX_DATE                   NaN         NaN         NaN         NaN         NaN\n",
       "NPKID                     NaN         NaN         NaN         NaN         NaN\n",
       "AGE_DON                   NaN         NaN         NaN         NaN         NaN\n",
       "ETHCAT_DON                NaN         NaN         NaN         NaN         NaN\n",
       "ABO_DON                   NaN         NaN         NaN         NaN         NaN\n",
       "GENDER_DON                NaN         NaN         NaN         NaN         NaN\n",
       "HOME_STATE_DON            NaN         NaN         NaN         NaN         NaN\n",
       "ABO_MAT                   NaN         NaN         NaN         NaN         NaN\n",
       "AGE                       NaN         NaN         NaN         NaN         NaN\n",
       "DISTANCE                  NaN         NaN         NaN         NaN         NaN\n",
       "DIAG_KI                   NaN         NaN         NaN         NaN         NaN\n",
       "DIAG_OSTXT_KI             NaN         NaN         NaN         NaN         NaN\n",
       "DAYSWAIT_CHRON_KI         NaN         NaN         NaN         NaN         NaN\n",
       "ORGAN                     NaN         NaN         NaN         NaN         NaN\n",
       "BMI_CALC                  NaN         NaN         NaN         NaN         NaN\n",
       "TRR_ID_CODE               NaN         NaN         NaN         NaN         NaN\n",
       "CTR_CODE                  NaN         NaN         NaN         NaN         NaN\n",
       "LISTING_CTR_CODE        21080       15283         248       11532       11532\n",
       "year                     2016        2014        2011        2011        2012"
      ]
     },
     "execution_count": 8,
     "metadata": {},
     "output_type": "execute_result"
    }
   ],
   "source": [
    "df.head().T"
   ]
  },
  {
   "cell_type": "markdown",
   "metadata": {},
   "source": [
    "For reference, I'm explaining the features and some notes on them.\n",
    "1. __GFR__: Kidney filteration rate. Not very complete data.\n",
    "2. __Antibody_tested__: YN, YA, and NN and no info. perhaps I'll change NaN as 'other' and make category.\n",
    "3. __Gender__: 0 is male and 1 is female.\n",
    "4. __ABO__: bloodtype of patients. Make category.\n",
    "5. __PERM_STATE__: WL patient state of residency. Redundant with PERM_STATE TRR.\n",
    "6. __DGN_TCR__: Primary diagnosis (number coded). redundant with DIAG_KI. drop this. \n",
    "7. __DIAB__: Diabetes information (number coded). make category.\n",
    "8. __INIT_WGT_KG__: Initial weight.\n",
    "9. __INIT_HGT_CM__: Initial height.\n",
    "10. __INIT_EPTS__: Initial calculated survival rate. 1/4 missing because it was recorded from 2014.\n",
    "11. __END_EPTS__: End calculated survival rate. Less missing than INIT. perhaps just use this information and fill the missing values with median.\n",
    "12. __INIT_AGE__: Initial Age. - Highly correlated with EPTS.\n",
    "13. __INIT_DATE__: Date of admission. Use DAYSWAIT as replacement.\n",
    "14. __ETHCAT__: Ethnicity (number coded). make category.\n",
    "15. __INIT_BMI_CALC__: Calculated BMI. \n",
    "16. __PERM_STATE_TRR__: patient state of residency at treatment. make category. I will also make a ratio column which calculates the rate of WL patient getting transplanted in a state.\n",
    "17. __TX_DATE__: Treatment date. Use DAYSWAIT as replacement. \n",
    "18. __NPKID__: Number of kidney transplants.\n",
    "19. __AGE_DON__: Donor age, probably drop this because we won't know this info when a patient is waitlisted.\n",
    "20. __ETHCAT_DON__: Donor ethnicity. Also drop.\n",
    "21. __ABO_DON__: Donor bloodtype. Also drop.\n",
    "22. __GENDER_DON__: Donor gender. Also drop. \n",
    "23. __HOME_STATE_DON__: Donor state. Also drop.\n",
    "24. __ABO_MAT__: Bloodtype match. Also drop.\n",
    "25. __AGE__: Recipient age. Also drop. (will be using INIT_AGE)\n",
    "26. __DISTANCE__: Donor hospital to treatment center distance. nautical miles.\n",
    "27. __DIAG_KI__: Kidney recipient primary diagnosis. make category.\n",
    "28. __DIAG_OSTXT_KI__: text info about DIAG_KI. drop this.\n",
    "29. __DAYSWAIT_CHRON_KI__: total days in kidney waitlist. - This will be my prediction variable (y variable!!)\n",
    "30. __ORGAN__: filter for kidney(KI) only. Then drop. \n",
    "31. __BMI_CALC__: Recipient BMI. drop this info. will use INIT_BMI.\n",
    "32. __TRR_ID_CODE__: df_t = df_wl[df_wl['TRR_ID_CODE'].notnull()] to get transplant data. Then drop.\n",
    "33. __CTR_CODE__: Transplant center code. drop this. (use DISTANCE and PERM_STATE_TRR)\n",
    "34. __LISTING_CTR_CODE__: WL center code. drop this. (use DISTANCE and PERM_STATE_TRR)\n",
    "35. __year__: year entered WL center. drop this.\n",
    "\n",
    "The goal of the analysis is to predict the waittime for a patient which is a regression problem. Also, since the patient will not have information about the donor at the time of listing. I will only keep the variables that are clear at the time of listing. I may have to return to select other features, but I will proceed with this set of features for now."
   ]
  },
  {
   "cell_type": "markdown",
   "metadata": {},
   "source": [
    "### 1. Dropping Columns and Rows."
   ]
  },
  {
   "cell_type": "code",
   "execution_count": 11,
   "metadata": {},
   "outputs": [],
   "source": [
    "df.drop(columns=['PERM_STATE','DGN_TCR','INIT_EPTS','INIT_DATE','TX_DATE','AGE_DON','ETHCAT_DON','ABO_DON','GENDER_DON',\n",
    "                'HOME_STATE_DON','ABO_MAT','AGE','DIAG_OSTXT_KI','BMI_CALC','CTR_CODE','LISTING_CTR_CODE','year'], \n",
    "        inplace=True)"
   ]
  },
  {
   "cell_type": "code",
   "execution_count": 13,
   "metadata": {},
   "outputs": [],
   "source": [
    "df = df[df['TRR_ID_CODE'].notnull()]"
   ]
  },
  {
   "cell_type": "code",
   "execution_count": 14,
   "metadata": {},
   "outputs": [
    {
     "name": "stderr",
     "output_type": "stream",
     "text": [
      "/opt/anaconda3/lib/python3.8/site-packages/pandas/core/frame.py:4160: SettingWithCopyWarning: \n",
      "A value is trying to be set on a copy of a slice from a DataFrame\n",
      "\n",
      "See the caveats in the documentation: https://pandas.pydata.org/pandas-docs/stable/user_guide/indexing.html#returning-a-view-versus-a-copy\n",
      "  return super().drop(\n"
     ]
    }
   ],
   "source": [
    "df.drop('TRR_ID_CODE', axis=1, inplace=True)"
   ]
  },
  {
   "cell_type": "code",
   "execution_count": 16,
   "metadata": {},
   "outputs": [
    {
     "data": {
      "text/plain": [
       "KI    166404\n",
       "KP        17\n",
       "Name: ORGAN, dtype: int64"
      ]
     },
     "execution_count": 16,
     "metadata": {},
     "output_type": "execute_result"
    }
   ],
   "source": [
    "df.ORGAN.value_counts()"
   ]
  },
  {
   "cell_type": "code",
   "execution_count": 18,
   "metadata": {},
   "outputs": [],
   "source": [
    "df = df[df['ORGAN']=='KI']"
   ]
  },
  {
   "cell_type": "code",
   "execution_count": 20,
   "metadata": {},
   "outputs": [],
   "source": [
    "df.drop('ORGAN', axis=1, inplace=True)"
   ]
  },
  {
   "cell_type": "code",
   "execution_count": 21,
   "metadata": {},
   "outputs": [
    {
     "name": "stdout",
     "output_type": "stream",
     "text": [
      "<class 'pandas.core.frame.DataFrame'>\n",
      "Int64Index: 166404 entries, 5 to 400280\n",
      "Data columns (total 16 columns):\n",
      " #   Column             Non-Null Count   Dtype  \n",
      "---  ------             --------------   -----  \n",
      " 0   GFR                74803 non-null   float64\n",
      " 1   ANTIBODY_TESTED    138389 non-null  object \n",
      " 2   GENDER             166404 non-null  int64  \n",
      " 3   ABO                166404 non-null  object \n",
      " 4   DIAB               166404 non-null  int64  \n",
      " 5   INIT_WGT_KG        166404 non-null  float64\n",
      " 6   INIT_HGT_CM        166404 non-null  float64\n",
      " 7   END_EPTS           130709 non-null  float64\n",
      " 8   INIT_AGE           166404 non-null  int64  \n",
      " 9   ETHCAT             166404 non-null  int64  \n",
      " 10  INIT_BMI_CALC      166404 non-null  float64\n",
      " 11  PERM_STATE_TRR     163671 non-null  object \n",
      " 12  NPKID              166404 non-null  float64\n",
      " 13  DISTANCE           166404 non-null  float64\n",
      " 14  DIAG_KI            165520 non-null  float64\n",
      " 15  DAYSWAIT_CHRON_KI  166404 non-null  float64\n",
      "dtypes: float64(9), int64(4), object(3)\n",
      "memory usage: 21.6+ MB\n"
     ]
    }
   ],
   "source": [
    "df.info()"
   ]
  },
  {
   "cell_type": "code",
   "execution_count": 22,
   "metadata": {},
   "outputs": [
    {
     "data": {
      "image/png": "[encoded data removed]",
      "text/plain": [
       "<Figure size 432x288 with 1 Axes>"
      ]
     },
     "metadata": {
      "needs_background": "light"
     },
     "output_type": "display_data"
    }
   ],
   "source": [
    "df.hist('GFR') \n",
    "plt.show()\n",
    "# Unfortunately, there aren't many GFR information recorded. I will drop this variable too in the hope that \n",
    "# the DIAG_KI already take GFR information into account."
   ]
  },
  {
   "cell_type": "code",
   "execution_count": 23,
   "metadata": {},
   "outputs": [],
   "source": [
    "df.drop('GFR', axis=1, inplace=True)"
   ]
  },
  {
   "cell_type": "code",
   "execution_count": 25,
   "metadata": {},
   "outputs": [],
   "source": [
    "df['ANTIBODY_TESTED'].fillna(value='unknown', inplace=True)"
   ]
  },
  {
   "cell_type": "code",
   "execution_count": 27,
   "metadata": {},
   "outputs": [],
   "source": [
    "epts_med = df['END_EPTS'].median()"
   ]
  },
  {
   "cell_type": "code",
   "execution_count": 29,
   "metadata": {},
   "outputs": [],
   "source": [
    "df['END_EPTS'].fillna(value=epts_med, inplace=True)"
   ]
  },
  {
   "cell_type": "code",
   "execution_count": 30,
   "metadata": {
    "scrolled": true
   },
   "outputs": [
    {
     "data": {
      "text/plain": [
       "CA    18108\n",
       "TX    14326\n",
       "NY    11658\n",
       "FL    10464\n",
       "IL     7628\n",
       "PA     6891\n",
       "OH     6004\n",
       "MI     5290\n",
       "NJ     5066\n",
       "NC     5034\n",
       "VA     4986\n",
       "GA     4711\n",
       "MD     4386\n",
       "AZ     4165\n",
       "MO     3269\n",
       "MA     3149\n",
       "TN     3127\n",
       "WA     3106\n",
       "IN     2857\n",
       "WI     2747\n",
       "MN     2704\n",
       "SC     2604\n",
       "CO     2320\n",
       "AL     2294\n",
       "LA     2100\n",
       "KY     1861\n",
       "CT     1757\n",
       "IA     1723\n",
       "OK     1695\n",
       "MS     1574\n",
       "KS     1493\n",
       "OR     1476\n",
       "UT     1390\n",
       "AR     1273\n",
       "NV     1256\n",
       "NE     1119\n",
       "NM      936\n",
       "WV      821\n",
       "PR      784\n",
       "ID      758\n",
       "RI      518\n",
       "ME      518\n",
       "NH      512\n",
       "DC      508\n",
       "HI      477\n",
       "DE      447\n",
       "SD      425\n",
       "ND      353\n",
       "MT      338\n",
       "AK      240\n",
       "WY      208\n",
       "VT      163\n",
       "VI       23\n",
       "ZZ       19\n",
       "AS        6\n",
       "GU        4\n",
       "MP        2\n",
       "Name: PERM_STATE_TRR, dtype: int64"
      ]
     },
     "execution_count": 30,
     "metadata": {},
     "output_type": "execute_result"
    }
   ],
   "source": [
    "df['PERM_STATE_TRR'].value_counts() # Note 'ZZ' is the unknown state code."
   ]
  },
  {
   "cell_type": "code",
   "execution_count": 32,
   "metadata": {},
   "outputs": [],
   "source": [
    "df['PERM_STATE_TRR'].fillna(value='ZZ', inplace=True)"
   ]
  },
  {
   "cell_type": "code",
   "execution_count": 42,
   "metadata": {},
   "outputs": [],
   "source": [
    "df.DIAG_KI.fillna(value=999, inplace=True)"
   ]
  },
  {
   "cell_type": "code",
   "execution_count": 44,
   "metadata": {},
   "outputs": [],
   "source": [
    "df['DIAG_KI']=df['DIAG_KI'].astype('int')"
   ]
  },
  {
   "cell_type": "code",
   "execution_count": 50,
   "metadata": {},
   "outputs": [],
   "source": [
    "df_wl = pd.read_csv('kidney.csv', usecols=['PERM_STATE','PERM_STATE_TRR', 'TRR_ID_CODE'])"
   ]
  },
  {
   "cell_type": "code",
   "execution_count": 52,
   "metadata": {},
   "outputs": [],
   "source": [
    "df_t = df_wl[df_wl['TRR_ID_CODE'].notnull()]"
   ]
  },
  {
   "cell_type": "code",
   "execution_count": 53,
   "metadata": {},
   "outputs": [],
   "source": [
    "a = df_wl.groupby(['PERM_STATE']).size()\n",
    "b = df_t.groupby(['PERM_STATE_TRR']).size()"
   ]
  },
  {
   "cell_type": "code",
   "execution_count": 55,
   "metadata": {},
   "outputs": [],
   "source": [
    "ratio = b/a\n",
    "df = df.merge(ratio.rename('ratio'), how='left', left_on ='PERM_STATE_TRR',right_index=True )"
   ]
  },
  {
   "cell_type": "code",
   "execution_count": 61,
   "metadata": {},
   "outputs": [],
   "source": [
    "df['DAYSWAIT_CHRON_KI']=df['DAYSWAIT_CHRON_KI'].astype('float')"
   ]
  },
  {
   "cell_type": "code",
   "execution_count": 62,
   "metadata": {},
   "outputs": [
    {
     "name": "stdout",
     "output_type": "stream",
     "text": [
      "<class 'pandas.core.frame.DataFrame'>\n",
      "Int64Index: 166404 entries, 5 to 400280\n",
      "Data columns (total 16 columns):\n",
      " #   Column             Non-Null Count   Dtype  \n",
      "---  ------             --------------   -----  \n",
      " 0   ANTIBODY_TESTED    166404 non-null  object \n",
      " 1   GENDER             166404 non-null  int64  \n",
      " 2   ABO                166404 non-null  object \n",
      " 3   DIAB               166404 non-null  int64  \n",
      " 4   INIT_WGT_KG        166404 non-null  float64\n",
      " 5   INIT_HGT_CM        166404 non-null  float64\n",
      " 6   END_EPTS           166404 non-null  float64\n",
      " 7   INIT_AGE           166404 non-null  int64  \n",
      " 8   ETHCAT             166404 non-null  int64  \n",
      " 9   INIT_BMI_CALC      166404 non-null  float64\n",
      " 10  PERM_STATE_TRR     166404 non-null  object \n",
      " 11  NPKID              166404 non-null  float64\n",
      " 12  DISTANCE           166404 non-null  float64\n",
      " 13  DIAG_KI            166404 non-null  int64  \n",
      " 14  DAYSWAIT_CHRON_KI  166404 non-null  float64\n",
      " 15  ratio              166404 non-null  float64\n",
      "dtypes: float64(8), int64(5), object(3)\n",
      "memory usage: 21.6+ MB\n"
     ]
    }
   ],
   "source": [
    "df.info() # filled every value and reduced the rows."
   ]
  },
  {
   "cell_type": "markdown",
   "metadata": {},
   "source": [
    "### 2. Scaling\n",
    "\n",
    "Noncategorical values are __INIT_WGT_KG, INIT_HGT_CM, END_EPTS, INIT_AGE, INIT_BMI_CALC, DISTANCE, ratio__.\n",
    "Also the DAYSWAIT_CHRON_KI is the prediction feature (y)."
   ]
  },
  {
   "cell_type": "code",
   "execution_count": 66,
   "metadata": {},
   "outputs": [],
   "source": [
    "from sklearn.preprocessing import StandardScaler\n",
    "scaler = StandardScaler()\n",
    "df[['INIT_WGT_KG','INIT_HGT_CM','END_EPTS','INIT_AGE','INIT_BMI_CALC','DISTANCE','ratio']] = scaler.fit_transform(df[['INIT_WGT_KG','INIT_HGT_CM','END_EPTS','INIT_AGE','INIT_BMI_CALC','DISTANCE','ratio']])"
   ]
  },
  {
   "cell_type": "code",
   "execution_count": 67,
   "metadata": {},
   "outputs": [
    {
     "data": {
      "text/html": [
       "<div>\n",
       "<style scoped>\n",
       "    .dataframe tbody tr th:only-of-type {\n",
       "        vertical-align: middle;\n",
       "    }\n",
       "\n",
       "    .dataframe tbody tr th {\n",
       "        vertical-align: top;\n",
       "    }\n",
       "\n",
       "    .dataframe thead th {\n",
       "        text-align: right;\n",
       "    }\n",
       "</style>\n",
       "<table border=\"1\" class=\"dataframe\">\n",
       "  <thead>\n",
       "    <tr style=\"text-align: right;\">\n",
       "      <th></th>\n",
       "      <th>ANTIBODY_TESTED</th>\n",
       "      <th>GENDER</th>\n",
       "      <th>ABO</th>\n",
       "      <th>DIAB</th>\n",
       "      <th>INIT_WGT_KG</th>\n",
       "      <th>INIT_HGT_CM</th>\n",
       "      <th>END_EPTS</th>\n",
       "      <th>INIT_AGE</th>\n",
       "      <th>ETHCAT</th>\n",
       "      <th>INIT_BMI_CALC</th>\n",
       "      <th>PERM_STATE_TRR</th>\n",
       "      <th>NPKID</th>\n",
       "      <th>DISTANCE</th>\n",
       "      <th>DIAG_KI</th>\n",
       "      <th>DAYSWAIT_CHRON_KI</th>\n",
       "      <th>ratio</th>\n",
       "    </tr>\n",
       "  </thead>\n",
       "  <tbody>\n",
       "    <tr>\n",
       "      <th>5</th>\n",
       "      <td>unknown</td>\n",
       "      <td>0</td>\n",
       "      <td>O</td>\n",
       "      <td>2</td>\n",
       "      <td>0.781752</td>\n",
       "      <td>0.774301</td>\n",
       "      <td>-0.081352</td>\n",
       "      <td>-0.750183</td>\n",
       "      <td>2</td>\n",
       "      <td>0.380087</td>\n",
       "      <td>SC</td>\n",
       "      <td>0.0</td>\n",
       "      <td>-0.245505</td>\n",
       "      <td>3069</td>\n",
       "      <td>184.0</td>\n",
       "      <td>-0.452993</td>\n",
       "    </tr>\n",
       "    <tr>\n",
       "      <th>28</th>\n",
       "      <td>unknown</td>\n",
       "      <td>1</td>\n",
       "      <td>O</td>\n",
       "      <td>2</td>\n",
       "      <td>-1.037128</td>\n",
       "      <td>-0.551874</td>\n",
       "      <td>-0.081352</td>\n",
       "      <td>-1.130134</td>\n",
       "      <td>2</td>\n",
       "      <td>-0.933057</td>\n",
       "      <td>SC</td>\n",
       "      <td>0.0</td>\n",
       "      <td>0.893569</td>\n",
       "      <td>3070</td>\n",
       "      <td>8.0</td>\n",
       "      <td>-0.452993</td>\n",
       "    </tr>\n",
       "    <tr>\n",
       "      <th>29</th>\n",
       "      <td>unknown</td>\n",
       "      <td>1</td>\n",
       "      <td>O</td>\n",
       "      <td>2</td>\n",
       "      <td>-0.914477</td>\n",
       "      <td>-0.054559</td>\n",
       "      <td>-0.081352</td>\n",
       "      <td>-0.306908</td>\n",
       "      <td>1</td>\n",
       "      <td>-1.123117</td>\n",
       "      <td>TX</td>\n",
       "      <td>1.0</td>\n",
       "      <td>0.564042</td>\n",
       "      <td>3069</td>\n",
       "      <td>289.0</td>\n",
       "      <td>-0.769778</td>\n",
       "    </tr>\n",
       "    <tr>\n",
       "      <th>48</th>\n",
       "      <td>unknown</td>\n",
       "      <td>1</td>\n",
       "      <td>A</td>\n",
       "      <td>2</td>\n",
       "      <td>-0.750985</td>\n",
       "      <td>0.111213</td>\n",
       "      <td>-0.081352</td>\n",
       "      <td>-0.876833</td>\n",
       "      <td>1</td>\n",
       "      <td>-1.019448</td>\n",
       "      <td>OK</td>\n",
       "      <td>1.0</td>\n",
       "      <td>-0.442703</td>\n",
       "      <td>3069</td>\n",
       "      <td>478.0</td>\n",
       "      <td>1.300809</td>\n",
       "    </tr>\n",
       "    <tr>\n",
       "      <th>57</th>\n",
       "      <td>unknown</td>\n",
       "      <td>0</td>\n",
       "      <td>AB</td>\n",
       "      <td>3</td>\n",
       "      <td>2.028354</td>\n",
       "      <td>0.774301</td>\n",
       "      <td>-0.081352</td>\n",
       "      <td>0.326343</td>\n",
       "      <td>1</td>\n",
       "      <td>1.848735</td>\n",
       "      <td>WI</td>\n",
       "      <td>0.0</td>\n",
       "      <td>-0.455676</td>\n",
       "      <td>3070</td>\n",
       "      <td>3.0</td>\n",
       "      <td>0.282546</td>\n",
       "    </tr>\n",
       "  </tbody>\n",
       "</table>\n",
       "</div>"
      ],
      "text/plain": [
       "   ANTIBODY_TESTED  GENDER ABO  DIAB  INIT_WGT_KG  INIT_HGT_CM  END_EPTS  \\\n",
       "5          unknown       0   O     2     0.781752     0.774301 -0.081352   \n",
       "28         unknown       1   O     2    -1.037128    -0.551874 -0.081352   \n",
       "29         unknown       1   O     2    -0.914477    -0.054559 -0.081352   \n",
       "48         unknown       1   A     2    -0.750985     0.111213 -0.081352   \n",
       "57         unknown       0  AB     3     2.028354     0.774301 -0.081352   \n",
       "\n",
       "    INIT_AGE  ETHCAT  INIT_BMI_CALC PERM_STATE_TRR  NPKID  DISTANCE  DIAG_KI  \\\n",
       "5  -0.750183       2       0.380087             SC    0.0 -0.245505     3069   \n",
       "28 -1.130134       2      -0.933057             SC    0.0  0.893569     3070   \n",
       "29 -0.306908       1      -1.123117             TX    1.0  0.564042     3069   \n",
       "48 -0.876833       1      -1.019448             OK    1.0 -0.442703     3069   \n",
       "57  0.326343       1       1.848735             WI    0.0 -0.455676     3070   \n",
       "\n",
       "    DAYSWAIT_CHRON_KI     ratio  \n",
       "5               184.0 -0.452993  \n",
       "28                8.0 -0.452993  \n",
       "29              289.0 -0.769778  \n",
       "48              478.0  1.300809  \n",
       "57                3.0  0.282546  "
      ]
     },
     "execution_count": 67,
     "metadata": {},
     "output_type": "execute_result"
    }
   ],
   "source": [
    "df.head()"
   ]
  },
  {
   "cell_type": "markdown",
   "metadata": {},
   "source": [
    "### 3. Dummy variable\n",
    "\n",
    "For the rest of categorical variables, I will be making Dummy variable (one hot!)"
   ]
  },
  {
   "cell_type": "code",
   "execution_count": 69,
   "metadata": {},
   "outputs": [],
   "source": [
    "df=pd.get_dummies(df, columns=['ANTIBODY_TESTED','ABO','DIAB','ETHCAT','PERM_STATE_TRR','NPKID','DIAG_KI'], drop_first=True)"
   ]
  },
  {
   "cell_type": "code",
   "execution_count": 70,
   "metadata": {},
   "outputs": [
    {
     "data": {
      "text/plain": [
       "(166404, 160)"
      ]
     },
     "execution_count": 70,
     "metadata": {},
     "output_type": "execute_result"
    }
   ],
   "source": [
    "df.shape # the columns increased to 160."
   ]
  },
  {
   "cell_type": "code",
   "execution_count": 71,
   "metadata": {},
   "outputs": [],
   "source": [
    "df.to_csv('KI_features.csv')"
   ]
  },
  {
   "cell_type": "markdown",
   "metadata": {},
   "source": [
    "### 4. Split into Train and Test set\n",
    "\n",
    "I will just write the code to split the train and test set here. But I will be performing it again right before the actual modeling."
   ]
  },
  {
   "cell_type": "code",
   "execution_count": 73,
   "metadata": {},
   "outputs": [],
   "source": [
    "X=df.drop('DAYSWAIT_CHRON_KI', axis=1)"
   ]
  },
  {
   "cell_type": "code",
   "execution_count": 75,
   "metadata": {},
   "outputs": [],
   "source": [
    "y=df[['DAYSWAIT_CHRON_KI']]"
   ]
  },
  {
   "cell_type": "code",
   "execution_count": 77,
   "metadata": {},
   "outputs": [],
   "source": [
    "from sklearn.model_selection import train_test_split\n",
    "X_train, X_test, y_train, y_test = train_test_split(X,y,test_size=0.25, random_state=1)"
   ]
  },
  {
   "cell_type": "code",
   "execution_count": 79,
   "metadata": {},
   "outputs": [
    {
     "data": {
      "text/plain": [
       "((124803, 1), (41601, 1))"
      ]
     },
     "execution_count": 79,
     "metadata": {},
     "output_type": "execute_result"
    }
   ],
   "source": [
    "y_train.shape, y_test.shape"
   ]
  },
  {
   "cell_type": "code",
   "execution_count": 80,
   "metadata": {},
   "outputs": [
    {
     "data": {
      "text/plain": [
       "((124803, 159), (41601, 159))"
      ]
     },
     "execution_count": 80,
     "metadata": {},
     "output_type": "execute_result"
    }
   ],
   "source": [
    "X_train.shape, X_test.shape"
   ]
  },
  {
   "cell_type": "code",
   "execution_count": null,
   "metadata": {},
   "outputs": [],
   "source": []
  }
 ],
 "metadata": {
  "kernelspec": {
   "display_name": "Python 3",
   "language": "python",
   "name": "python3"
  },
  "language_info": {
   "codemirror_mode": {
    "name": "ipython",
    "version": 3
   },
   "file_extension": ".py",
   "mimetype": "text/x-python",
   "name": "python",
   "nbconvert_exporter": "python",
   "pygments_lexer": "ipython3",
   "version": "3.8.3"
  }
 },
 "nbformat": 4,
 "nbformat_minor": 4
}
