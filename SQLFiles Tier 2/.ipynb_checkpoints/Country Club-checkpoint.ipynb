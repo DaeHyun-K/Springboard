{
 "cells": [
  {
   "cell_type": "code",
   "execution_count": 1,
   "metadata": {},
   "outputs": [],
   "source": [
    "import pandas as pd\n",
    "import numpy as np\n",
    "import sqlite3"
   ]
  },
  {
   "cell_type": "code",
   "execution_count": 2,
   "metadata": {},
   "outputs": [],
   "source": [
    "con = sqlite3.connect('sqlite_db_pythonsqlite.db')"
   ]
  },
  {
   "cell_type": "code",
   "execution_count": 3,
   "metadata": {},
   "outputs": [],
   "source": [
    "cur = con.cursor()"
   ]
  },
  {
   "cell_type": "code",
   "execution_count": 4,
   "metadata": {},
   "outputs": [
    {
     "data": {
      "text/plain": [
       "<sqlite3.Cursor at 0x7fe5a328f030>"
      ]
     },
     "execution_count": 4,
     "metadata": {},
     "output_type": "execute_result"
    }
   ],
   "source": [
    "cur.execute('SELECT * FROM Facilities')"
   ]
  },
  {
   "cell_type": "code",
   "execution_count": 5,
   "metadata": {},
   "outputs": [
    {
     "name": "stdout",
     "output_type": "stream",
     "text": [
      "[(0, 'Tennis Court 1', 5, 25, 10000, 200), (1, 'Tennis Court 2', 5, 25, 8000, 200), (2, 'Badminton Court', 0, 15.5, 4000, 50), (3, 'Table Tennis', 0, 5, 320, 10), (4, 'Massage Room 1', 9.9, 80, 4000, 3000), (5, 'Massage Room 2', 9.9, 80, 4000, 3000), (6, 'Squash Court', 3.5, 17.5, 5000, 80), (7, 'Snooker Table', 0, 5, 450, 15), (8, 'Pool Table', 0, 5, 400, 15)]\n"
     ]
    }
   ],
   "source": [
    "results = cur.fetchall()\n",
    "print(results)"
   ]
  },
  {
   "cell_type": "code",
   "execution_count": 6,
   "metadata": {},
   "outputs": [],
   "source": [
    "cur.close()"
   ]
  },
  {
   "cell_type": "code",
   "execution_count": 7,
   "metadata": {},
   "outputs": [],
   "source": [
    "df_fac = pd.read_sql_query('SELECT * FROM Facilities', con)"
   ]
  },
  {
   "cell_type": "code",
   "execution_count": 8,
   "metadata": {},
   "outputs": [],
   "source": [
    "df_bk = pd.read_sql_query('SELECT * FROM Bookings', con)\n",
    "df_mem = pd.read_sql_query('SELECT * FROM Members', con)"
   ]
  },
  {
   "cell_type": "code",
   "execution_count": 9,
   "metadata": {},
   "outputs": [
    {
     "name": "stdout",
     "output_type": "stream",
     "text": [
      "   facid             name  membercost  guestcost  initialoutlay  \\\n",
      "0      0   Tennis Court 1         5.0       25.0          10000   \n",
      "1      1   Tennis Court 2         5.0       25.0           8000   \n",
      "2      2  Badminton Court         0.0       15.5           4000   \n",
      "3      3     Table Tennis         0.0        5.0            320   \n",
      "4      4   Massage Room 1         9.9       80.0           4000   \n",
      "\n",
      "   monthlymaintenance  \n",
      "0                 200  \n",
      "1                 200  \n",
      "2                  50  \n",
      "3                  10  \n",
      "4                3000  \n"
     ]
    }
   ],
   "source": [
    "print (df_fac.head())"
   ]
  },
  {
   "cell_type": "code",
   "execution_count": 10,
   "metadata": {},
   "outputs": [
    {
     "name": "stdout",
     "output_type": "stream",
     "text": [
      "   bookid  facid  memid            starttime  slots\n",
      "0       0      3      1  2012-07-03 11:00:00      2\n",
      "1       1      4      1  2012-07-03 08:00:00      2\n",
      "2       2      6      0  2012-07-03 18:00:00      2\n",
      "3       3      7      1  2012-07-03 19:00:00      2\n",
      "4       4      8      1  2012-07-03 10:00:00      1\n"
     ]
    }
   ],
   "source": [
    "print(df_bk.head())"
   ]
  },
  {
   "cell_type": "code",
   "execution_count": 11,
   "metadata": {},
   "outputs": [
    {
     "name": "stdout",
     "output_type": "stream",
     "text": [
      "   memid   surname firstname                       address  zipcode  \\\n",
      "0      0     GUEST     GUEST                         GUEST        0   \n",
      "1      1     Smith    Darren    8 Bloomsbury Close, Boston     4321   \n",
      "2      2     Smith     Tracy  8 Bloomsbury Close, New York     4321   \n",
      "3      3    Rownam       Tim        23 Highway Way, Boston    23423   \n",
      "4      4  Joplette    Janice    20 Crossing Road, New York      234   \n",
      "\n",
      "        telephone recommendedby             joindate  \n",
      "0  (000) 000-0000                2012-07-01 00:00:00  \n",
      "1    555-555-5555                2012-07-02 12:02:05  \n",
      "2    555-555-5555                2012-07-02 12:08:23  \n",
      "3  (844) 693-0723                2012-07-03 09:32:15  \n",
      "4  (833) 942-4710             1  2012-07-03 10:25:05  \n"
     ]
    }
   ],
   "source": [
    "print(df_mem.head())"
   ]
  },
  {
   "cell_type": "markdown",
   "metadata": {},
   "source": [
    "### Q10: Produce a list of facilities with a total revenue less than 1000.\n",
    "The output of facility name and total revenue, sorted by revenue. Remember\n",
    "that there's a different cost for guests and members!"
   ]
  },
  {
   "cell_type": "code",
   "execution_count": 12,
   "metadata": {},
   "outputs": [],
   "source": [
    "df_10 = df_bk.merge(df_fac, on='facid')"
   ]
  },
  {
   "cell_type": "code",
   "execution_count": 13,
   "metadata": {},
   "outputs": [
    {
     "name": "stdout",
     "output_type": "stream",
     "text": [
      "      bookid  facid  memid            starttime  slots            name  \\\n",
      "0          0      3      1  2012-07-03 11:00:00      2    Table Tennis   \n",
      "1         19      3      3  2012-07-05 09:00:00      2    Table Tennis   \n",
      "2         20      3      1  2012-07-05 19:00:00      2    Table Tennis   \n",
      "3         30      3      1  2012-07-06 11:00:00      2    Table Tennis   \n",
      "4         43      3      2  2012-07-07 12:30:00      2    Table Tennis   \n",
      "...      ...    ...    ...                  ...    ...             ...   \n",
      "4038    3868      5     11  2012-09-28 16:00:00      2  Massage Room 2   \n",
      "4039    3869      5      0  2012-09-28 17:00:00      4  Massage Room 2   \n",
      "4040    3937      5      0  2012-09-29 12:30:00      2  Massage Room 2   \n",
      "4041    4009      5      0  2012-09-30 11:30:00      2  Massage Room 2   \n",
      "4042    4010      5      0  2012-09-30 19:30:00      2  Massage Room 2   \n",
      "\n",
      "      membercost  guestcost  initialoutlay  monthlymaintenance  \n",
      "0            0.0        5.0            320                  10  \n",
      "1            0.0        5.0            320                  10  \n",
      "2            0.0        5.0            320                  10  \n",
      "3            0.0        5.0            320                  10  \n",
      "4            0.0        5.0            320                  10  \n",
      "...          ...        ...            ...                 ...  \n",
      "4038         9.9       80.0           4000                3000  \n",
      "4039         9.9       80.0           4000                3000  \n",
      "4040         9.9       80.0           4000                3000  \n",
      "4041         9.9       80.0           4000                3000  \n",
      "4042         9.9       80.0           4000                3000  \n",
      "\n",
      "[4043 rows x 10 columns]\n"
     ]
    }
   ],
   "source": [
    "print(df_10)"
   ]
  },
  {
   "cell_type": "code",
   "execution_count": 14,
   "metadata": {},
   "outputs": [
    {
     "name": "stdout",
     "output_type": "stream",
     "text": [
      "      bookid  facid  memid            starttime  slots            name  \\\n",
      "0          0      3      1  2012-07-03 11:00:00      2    Table Tennis   \n",
      "1         19      3      3  2012-07-05 09:00:00      2    Table Tennis   \n",
      "2         20      3      1  2012-07-05 19:00:00      2    Table Tennis   \n",
      "3         30      3      1  2012-07-06 11:00:00      2    Table Tennis   \n",
      "4         43      3      2  2012-07-07 12:30:00      2    Table Tennis   \n",
      "...      ...    ...    ...                  ...    ...             ...   \n",
      "4038    3868      5     11  2012-09-28 16:00:00      2  Massage Room 2   \n",
      "4039    3869      5      0  2012-09-28 17:00:00      4  Massage Room 2   \n",
      "4040    3937      5      0  2012-09-29 12:30:00      2  Massage Room 2   \n",
      "4041    4009      5      0  2012-09-30 11:30:00      2  Massage Room 2   \n",
      "4042    4010      5      0  2012-09-30 19:30:00      2  Massage Room 2   \n",
      "\n",
      "      membercost  guestcost  initialoutlay  monthlymaintenance   cost  \n",
      "0            0.0        5.0            320                  10    0.0  \n",
      "1            0.0        5.0            320                  10    0.0  \n",
      "2            0.0        5.0            320                  10    0.0  \n",
      "3            0.0        5.0            320                  10    0.0  \n",
      "4            0.0        5.0            320                  10    0.0  \n",
      "...          ...        ...            ...                 ...    ...  \n",
      "4038         9.9       80.0           4000                3000   19.8  \n",
      "4039         9.9       80.0           4000                3000  320.0  \n",
      "4040         9.9       80.0           4000                3000  160.0  \n",
      "4041         9.9       80.0           4000                3000  160.0  \n",
      "4042         9.9       80.0           4000                3000  160.0  \n",
      "\n",
      "[4043 rows x 11 columns]\n"
     ]
    }
   ],
   "source": [
    "df_10.loc[df_10['memid']==0, 'cost'] = df_10['slots']*df_10['guestcost']\n",
    "df_10.loc[df_10['memid']!=0, 'cost'] = df_10['slots']*df_10['membercost']\n",
    "print(df_10)"
   ]
  },
  {
   "cell_type": "code",
   "execution_count": 15,
   "metadata": {},
   "outputs": [],
   "source": [
    "df_10_result = df_10.groupby('name')['cost'].sum()"
   ]
  },
  {
   "cell_type": "code",
   "execution_count": 16,
   "metadata": {},
   "outputs": [
    {
     "name": "stdout",
     "output_type": "stream",
     "text": [
      "name\n",
      "Badminton Court     1906.5\n",
      "Massage Room 1     50351.6\n",
      "Massage Room 2     14454.6\n",
      "Pool Table           270.0\n",
      "Snooker Table        240.0\n",
      "Squash Court       13468.0\n",
      "Table Tennis         180.0\n",
      "Tennis Court 1     13860.0\n",
      "Tennis Court 2     14310.0\n",
      "Name: cost, dtype: float64\n"
     ]
    }
   ],
   "source": [
    "print(df_10_result)"
   ]
  },
  {
   "cell_type": "code",
   "execution_count": 17,
   "metadata": {},
   "outputs": [
    {
     "name": "stdout",
     "output_type": "stream",
     "text": [
      "name\n",
      "Pool Table       270.0\n",
      "Snooker Table    240.0\n",
      "Table Tennis     180.0\n",
      "Name: cost, dtype: float64\n"
     ]
    }
   ],
   "source": [
    "print(df_10_result[df_10_result<1000])"
   ]
  },
  {
   "cell_type": "markdown",
   "metadata": {},
   "source": [
    "### Q11. Produce a report of members and who recommended them in alphabetic surname,firstname order"
   ]
  },
  {
   "cell_type": "code",
   "execution_count": 41,
   "metadata": {},
   "outputs": [],
   "source": [
    "df_11 = df_mem.drop(columns=['address','zipcode','telephone','joindate'])"
   ]
  },
  {
   "cell_type": "code",
   "execution_count": 42,
   "metadata": {},
   "outputs": [
    {
     "name": "stdout",
     "output_type": "stream",
     "text": [
      "<class 'pandas.core.frame.DataFrame'>\n",
      "RangeIndex: 31 entries, 0 to 30\n",
      "Data columns (total 4 columns):\n",
      " #   Column         Non-Null Count  Dtype \n",
      "---  ------         --------------  ----- \n",
      " 0   memid          31 non-null     int64 \n",
      " 1   surname        31 non-null     object\n",
      " 2   firstname      31 non-null     object\n",
      " 3   recommendedby  31 non-null     object\n",
      "dtypes: int64(1), object(3)\n",
      "memory usage: 1.1+ KB\n",
      "None\n"
     ]
    }
   ],
   "source": [
    "print(df_11.info())"
   ]
  },
  {
   "cell_type": "code",
   "execution_count": null,
   "metadata": {},
   "outputs": [],
   "source": [
    "df_11['recommendedby'] = df_11['recommendedby'].replace('',-1).astype('int')"
   ]
  },
  {
   "cell_type": "code",
   "execution_count": 55,
   "metadata": {},
   "outputs": [],
   "source": [
    "df_11_result = df_11.merge(df_11, left_on='recommendedby',right_on='memid', how='left', suffixes=('_1','_2'))"
   ]
  },
  {
   "cell_type": "code",
   "execution_count": 56,
   "metadata": {},
   "outputs": [
    {
     "name": "stdout",
     "output_type": "stream",
     "text": [
      "    memid_1          surname_1 firstname_1  recommendedby_1  memid_2  \\\n",
      "0         0              GUEST       GUEST               -1      NaN   \n",
      "1         1              Smith      Darren               -1      NaN   \n",
      "2         2              Smith       Tracy               -1      NaN   \n",
      "3         3             Rownam         Tim               -1      NaN   \n",
      "4         4           Joplette      Janice                1      1.0   \n",
      "5         5            Butters      Gerald                1      1.0   \n",
      "6         6              Tracy      Burton               -1      NaN   \n",
      "7         7               Dare       Nancy                4      4.0   \n",
      "8         8             Boothe         Tim                3      3.0   \n",
      "9         9           Stibbons      Ponder                6      6.0   \n",
      "10       10               Owen     Charles                1      1.0   \n",
      "11       11              Jones       David                4      4.0   \n",
      "12       12              Baker        Anne                9      9.0   \n",
      "13       13            Farrell      Jemima               -1      NaN   \n",
      "14       14              Smith        Jack                1      1.0   \n",
      "15       15              Bader    Florence                9      9.0   \n",
      "16       16              Baker     Timothy               13     13.0   \n",
      "17       17             Pinker       David               13     13.0   \n",
      "18       20            Genting     Matthew                5      5.0   \n",
      "19       21          Mackenzie        Anna                1      1.0   \n",
      "20       22             Coplin        Joan               16     16.0   \n",
      "21       24             Sarwin   Ramnaresh               15     15.0   \n",
      "22       26              Jones     Douglas               11     11.0   \n",
      "23       27             Rumney   Henrietta               20     20.0   \n",
      "24       28            Farrell       David               -1      NaN   \n",
      "25       29  Worthington-Smyth       Henry                2      2.0   \n",
      "26       30            Purview   Millicent                2      2.0   \n",
      "27       33         Tupperware    Hyacinth               -1      NaN   \n",
      "28       35               Hunt        John               30     30.0   \n",
      "29       36            Crumpet       Erica                2      2.0   \n",
      "30       37              Smith      Darren               -1      NaN   \n",
      "\n",
      "   surname_2 firstname_2  recommendedby_2  \n",
      "0        NaN         NaN              NaN  \n",
      "1        NaN         NaN              NaN  \n",
      "2        NaN         NaN              NaN  \n",
      "3        NaN         NaN              NaN  \n",
      "4      Smith      Darren             -1.0  \n",
      "5      Smith      Darren             -1.0  \n",
      "6        NaN         NaN              NaN  \n",
      "7   Joplette      Janice              1.0  \n",
      "8     Rownam         Tim             -1.0  \n",
      "9      Tracy      Burton             -1.0  \n",
      "10     Smith      Darren             -1.0  \n",
      "11  Joplette      Janice              1.0  \n",
      "12  Stibbons      Ponder              6.0  \n",
      "13       NaN         NaN              NaN  \n",
      "14     Smith      Darren             -1.0  \n",
      "15  Stibbons      Ponder              6.0  \n",
      "16   Farrell      Jemima             -1.0  \n",
      "17   Farrell      Jemima             -1.0  \n",
      "18   Butters      Gerald              1.0  \n",
      "19     Smith      Darren             -1.0  \n",
      "20     Baker     Timothy             13.0  \n",
      "21     Bader    Florence              9.0  \n",
      "22     Jones       David              4.0  \n",
      "23   Genting     Matthew              5.0  \n",
      "24       NaN         NaN              NaN  \n",
      "25     Smith       Tracy             -1.0  \n",
      "26     Smith       Tracy             -1.0  \n",
      "27       NaN         NaN              NaN  \n",
      "28   Purview   Millicent              2.0  \n",
      "29     Smith       Tracy             -1.0  \n",
      "30       NaN         NaN              NaN  \n"
     ]
    }
   ],
   "source": [
    "print(df_11_result)"
   ]
  },
  {
   "cell_type": "code",
   "execution_count": 57,
   "metadata": {},
   "outputs": [],
   "source": [
    "df_11_result['recommended'] = df_11_result['surname_2'] + ' ' + df_11_result['firstname_2']"
   ]
  },
  {
   "cell_type": "code",
   "execution_count": 59,
   "metadata": {},
   "outputs": [],
   "source": [
    "df_11_result['member'] = df_11_result['surname_1'] + ' ' + df_11_result['firstname_1']"
   ]
  },
  {
   "cell_type": "code",
   "execution_count": 61,
   "metadata": {},
   "outputs": [],
   "source": [
    "df_11_result.drop(columns = ['memid_1','memid_2','recommendedby_1','recommendedby_2','surname_2','firstname_2'], inplace = True)"
   ]
  },
  {
   "cell_type": "code",
   "execution_count": 62,
   "metadata": {},
   "outputs": [
    {
     "data": {
      "text/html": [
       "<div>\n",
       "<style scoped>\n",
       "    .dataframe tbody tr th:only-of-type {\n",
       "        vertical-align: middle;\n",
       "    }\n",
       "\n",
       "    .dataframe tbody tr th {\n",
       "        vertical-align: top;\n",
       "    }\n",
       "\n",
       "    .dataframe thead th {\n",
       "        text-align: right;\n",
       "    }\n",
       "</style>\n",
       "<table border=\"1\" class=\"dataframe\">\n",
       "  <thead>\n",
       "    <tr style=\"text-align: right;\">\n",
       "      <th></th>\n",
       "      <th>surname_1</th>\n",
       "      <th>firstname_1</th>\n",
       "      <th>recommended</th>\n",
       "      <th>member</th>\n",
       "    </tr>\n",
       "  </thead>\n",
       "  <tbody>\n",
       "    <tr>\n",
       "      <th>15</th>\n",
       "      <td>Bader</td>\n",
       "      <td>Florence</td>\n",
       "      <td>Stibbons Ponder</td>\n",
       "      <td>Bader Florence</td>\n",
       "    </tr>\n",
       "    <tr>\n",
       "      <th>12</th>\n",
       "      <td>Baker</td>\n",
       "      <td>Anne</td>\n",
       "      <td>Stibbons Ponder</td>\n",
       "      <td>Baker Anne</td>\n",
       "    </tr>\n",
       "    <tr>\n",
       "      <th>16</th>\n",
       "      <td>Baker</td>\n",
       "      <td>Timothy</td>\n",
       "      <td>Farrell Jemima</td>\n",
       "      <td>Baker Timothy</td>\n",
       "    </tr>\n",
       "    <tr>\n",
       "      <th>8</th>\n",
       "      <td>Boothe</td>\n",
       "      <td>Tim</td>\n",
       "      <td>Rownam Tim</td>\n",
       "      <td>Boothe Tim</td>\n",
       "    </tr>\n",
       "    <tr>\n",
       "      <th>5</th>\n",
       "      <td>Butters</td>\n",
       "      <td>Gerald</td>\n",
       "      <td>Smith Darren</td>\n",
       "      <td>Butters Gerald</td>\n",
       "    </tr>\n",
       "    <tr>\n",
       "      <th>20</th>\n",
       "      <td>Coplin</td>\n",
       "      <td>Joan</td>\n",
       "      <td>Baker Timothy</td>\n",
       "      <td>Coplin Joan</td>\n",
       "    </tr>\n",
       "    <tr>\n",
       "      <th>29</th>\n",
       "      <td>Crumpet</td>\n",
       "      <td>Erica</td>\n",
       "      <td>Smith Tracy</td>\n",
       "      <td>Crumpet Erica</td>\n",
       "    </tr>\n",
       "    <tr>\n",
       "      <th>7</th>\n",
       "      <td>Dare</td>\n",
       "      <td>Nancy</td>\n",
       "      <td>Joplette Janice</td>\n",
       "      <td>Dare Nancy</td>\n",
       "    </tr>\n",
       "    <tr>\n",
       "      <th>24</th>\n",
       "      <td>Farrell</td>\n",
       "      <td>David</td>\n",
       "      <td>NaN</td>\n",
       "      <td>Farrell David</td>\n",
       "    </tr>\n",
       "    <tr>\n",
       "      <th>13</th>\n",
       "      <td>Farrell</td>\n",
       "      <td>Jemima</td>\n",
       "      <td>NaN</td>\n",
       "      <td>Farrell Jemima</td>\n",
       "    </tr>\n",
       "    <tr>\n",
       "      <th>0</th>\n",
       "      <td>GUEST</td>\n",
       "      <td>GUEST</td>\n",
       "      <td>NaN</td>\n",
       "      <td>GUEST GUEST</td>\n",
       "    </tr>\n",
       "    <tr>\n",
       "      <th>18</th>\n",
       "      <td>Genting</td>\n",
       "      <td>Matthew</td>\n",
       "      <td>Butters Gerald</td>\n",
       "      <td>Genting Matthew</td>\n",
       "    </tr>\n",
       "    <tr>\n",
       "      <th>28</th>\n",
       "      <td>Hunt</td>\n",
       "      <td>John</td>\n",
       "      <td>Purview Millicent</td>\n",
       "      <td>Hunt John</td>\n",
       "    </tr>\n",
       "    <tr>\n",
       "      <th>11</th>\n",
       "      <td>Jones</td>\n",
       "      <td>David</td>\n",
       "      <td>Joplette Janice</td>\n",
       "      <td>Jones David</td>\n",
       "    </tr>\n",
       "    <tr>\n",
       "      <th>22</th>\n",
       "      <td>Jones</td>\n",
       "      <td>Douglas</td>\n",
       "      <td>Jones David</td>\n",
       "      <td>Jones Douglas</td>\n",
       "    </tr>\n",
       "    <tr>\n",
       "      <th>4</th>\n",
       "      <td>Joplette</td>\n",
       "      <td>Janice</td>\n",
       "      <td>Smith Darren</td>\n",
       "      <td>Joplette Janice</td>\n",
       "    </tr>\n",
       "    <tr>\n",
       "      <th>19</th>\n",
       "      <td>Mackenzie</td>\n",
       "      <td>Anna</td>\n",
       "      <td>Smith Darren</td>\n",
       "      <td>Mackenzie Anna</td>\n",
       "    </tr>\n",
       "    <tr>\n",
       "      <th>10</th>\n",
       "      <td>Owen</td>\n",
       "      <td>Charles</td>\n",
       "      <td>Smith Darren</td>\n",
       "      <td>Owen Charles</td>\n",
       "    </tr>\n",
       "    <tr>\n",
       "      <th>17</th>\n",
       "      <td>Pinker</td>\n",
       "      <td>David</td>\n",
       "      <td>Farrell Jemima</td>\n",
       "      <td>Pinker David</td>\n",
       "    </tr>\n",
       "    <tr>\n",
       "      <th>26</th>\n",
       "      <td>Purview</td>\n",
       "      <td>Millicent</td>\n",
       "      <td>Smith Tracy</td>\n",
       "      <td>Purview Millicent</td>\n",
       "    </tr>\n",
       "    <tr>\n",
       "      <th>3</th>\n",
       "      <td>Rownam</td>\n",
       "      <td>Tim</td>\n",
       "      <td>NaN</td>\n",
       "      <td>Rownam Tim</td>\n",
       "    </tr>\n",
       "    <tr>\n",
       "      <th>23</th>\n",
       "      <td>Rumney</td>\n",
       "      <td>Henrietta</td>\n",
       "      <td>Genting Matthew</td>\n",
       "      <td>Rumney Henrietta</td>\n",
       "    </tr>\n",
       "    <tr>\n",
       "      <th>21</th>\n",
       "      <td>Sarwin</td>\n",
       "      <td>Ramnaresh</td>\n",
       "      <td>Bader Florence</td>\n",
       "      <td>Sarwin Ramnaresh</td>\n",
       "    </tr>\n",
       "    <tr>\n",
       "      <th>1</th>\n",
       "      <td>Smith</td>\n",
       "      <td>Darren</td>\n",
       "      <td>NaN</td>\n",
       "      <td>Smith Darren</td>\n",
       "    </tr>\n",
       "    <tr>\n",
       "      <th>30</th>\n",
       "      <td>Smith</td>\n",
       "      <td>Darren</td>\n",
       "      <td>NaN</td>\n",
       "      <td>Smith Darren</td>\n",
       "    </tr>\n",
       "    <tr>\n",
       "      <th>14</th>\n",
       "      <td>Smith</td>\n",
       "      <td>Jack</td>\n",
       "      <td>Smith Darren</td>\n",
       "      <td>Smith Jack</td>\n",
       "    </tr>\n",
       "    <tr>\n",
       "      <th>2</th>\n",
       "      <td>Smith</td>\n",
       "      <td>Tracy</td>\n",
       "      <td>NaN</td>\n",
       "      <td>Smith Tracy</td>\n",
       "    </tr>\n",
       "    <tr>\n",
       "      <th>9</th>\n",
       "      <td>Stibbons</td>\n",
       "      <td>Ponder</td>\n",
       "      <td>Tracy Burton</td>\n",
       "      <td>Stibbons Ponder</td>\n",
       "    </tr>\n",
       "    <tr>\n",
       "      <th>6</th>\n",
       "      <td>Tracy</td>\n",
       "      <td>Burton</td>\n",
       "      <td>NaN</td>\n",
       "      <td>Tracy Burton</td>\n",
       "    </tr>\n",
       "    <tr>\n",
       "      <th>27</th>\n",
       "      <td>Tupperware</td>\n",
       "      <td>Hyacinth</td>\n",
       "      <td>NaN</td>\n",
       "      <td>Tupperware Hyacinth</td>\n",
       "    </tr>\n",
       "    <tr>\n",
       "      <th>25</th>\n",
       "      <td>Worthington-Smyth</td>\n",
       "      <td>Henry</td>\n",
       "      <td>Smith Tracy</td>\n",
       "      <td>Worthington-Smyth Henry</td>\n",
       "    </tr>\n",
       "  </tbody>\n",
       "</table>\n",
       "</div>"
      ],
      "text/plain": [
       "            surname_1 firstname_1        recommended                   member\n",
       "15              Bader    Florence    Stibbons Ponder           Bader Florence\n",
       "12              Baker        Anne    Stibbons Ponder               Baker Anne\n",
       "16              Baker     Timothy     Farrell Jemima            Baker Timothy\n",
       "8              Boothe         Tim         Rownam Tim               Boothe Tim\n",
       "5             Butters      Gerald       Smith Darren           Butters Gerald\n",
       "20             Coplin        Joan      Baker Timothy              Coplin Joan\n",
       "29            Crumpet       Erica        Smith Tracy            Crumpet Erica\n",
       "7                Dare       Nancy    Joplette Janice               Dare Nancy\n",
       "24            Farrell       David                NaN            Farrell David\n",
       "13            Farrell      Jemima                NaN           Farrell Jemima\n",
       "0               GUEST       GUEST                NaN              GUEST GUEST\n",
       "18            Genting     Matthew     Butters Gerald          Genting Matthew\n",
       "28               Hunt        John  Purview Millicent                Hunt John\n",
       "11              Jones       David    Joplette Janice              Jones David\n",
       "22              Jones     Douglas        Jones David            Jones Douglas\n",
       "4            Joplette      Janice       Smith Darren          Joplette Janice\n",
       "19          Mackenzie        Anna       Smith Darren           Mackenzie Anna\n",
       "10               Owen     Charles       Smith Darren             Owen Charles\n",
       "17             Pinker       David     Farrell Jemima             Pinker David\n",
       "26            Purview   Millicent        Smith Tracy        Purview Millicent\n",
       "3              Rownam         Tim                NaN               Rownam Tim\n",
       "23             Rumney   Henrietta    Genting Matthew         Rumney Henrietta\n",
       "21             Sarwin   Ramnaresh     Bader Florence         Sarwin Ramnaresh\n",
       "1               Smith      Darren                NaN             Smith Darren\n",
       "30              Smith      Darren                NaN             Smith Darren\n",
       "14              Smith        Jack       Smith Darren               Smith Jack\n",
       "2               Smith       Tracy                NaN              Smith Tracy\n",
       "9            Stibbons      Ponder       Tracy Burton          Stibbons Ponder\n",
       "6               Tracy      Burton                NaN             Tracy Burton\n",
       "27         Tupperware    Hyacinth                NaN      Tupperware Hyacinth\n",
       "25  Worthington-Smyth       Henry        Smith Tracy  Worthington-Smyth Henry"
      ]
     },
     "execution_count": 62,
     "metadata": {},
     "output_type": "execute_result"
    }
   ],
   "source": [
    "df_11_result.sort_values(by = ['surname_1','firstname_1'])"
   ]
  },
  {
   "cell_type": "markdown",
   "metadata": {},
   "source": [
    "### Q12 Find the facilities with their usage by member, but not guests"
   ]
  },
  {
   "cell_type": "code",
   "execution_count": 67,
   "metadata": {},
   "outputs": [],
   "source": [
    "df_mem_bk = df_bk[df_bk['memid']!=0]"
   ]
  },
  {
   "cell_type": "code",
   "execution_count": 70,
   "metadata": {},
   "outputs": [],
   "source": [
    "df_12 = df_mem_bk.groupby('facid').agg({'slots':sum})"
   ]
  },
  {
   "cell_type": "code",
   "execution_count": 72,
   "metadata": {},
   "outputs": [],
   "source": [
    "df_12_result = df_12.merge(df_fac, how='left',on='facid')"
   ]
  },
  {
   "cell_type": "code",
   "execution_count": 73,
   "metadata": {},
   "outputs": [
    {
     "name": "stdout",
     "output_type": "stream",
     "text": [
      "   facid  slots             name  membercost  guestcost  initialoutlay  \\\n",
      "0      0    957   Tennis Court 1         5.0       25.0          10000   \n",
      "1      1    882   Tennis Court 2         5.0       25.0           8000   \n",
      "2      2   1086  Badminton Court         0.0       15.5           4000   \n",
      "3      3    794     Table Tennis         0.0        5.0            320   \n",
      "4      4    884   Massage Room 1         9.9       80.0           4000   \n",
      "5      5     54   Massage Room 2         9.9       80.0           4000   \n",
      "6      6    418     Squash Court         3.5       17.5           5000   \n",
      "7      7    860    Snooker Table         0.0        5.0            450   \n",
      "8      8    856       Pool Table         0.0        5.0            400   \n",
      "\n",
      "   monthlymaintenance  \n",
      "0                 200  \n",
      "1                 200  \n",
      "2                  50  \n",
      "3                  10  \n",
      "4                3000  \n",
      "5                3000  \n",
      "6                  80  \n",
      "7                  15  \n",
      "8                  15  \n"
     ]
    }
   ],
   "source": [
    "print(df_12_result)"
   ]
  },
  {
   "cell_type": "code",
   "execution_count": 75,
   "metadata": {},
   "outputs": [],
   "source": [
    "df_12_result.drop(columns =['membercost','guestcost','initialoutlay','monthlymaintenance'],inplace = True)"
   ]
  },
  {
   "cell_type": "code",
   "execution_count": 76,
   "metadata": {},
   "outputs": [],
   "source": [
    "df_12_result['usage(hr)'] = df_12_result['slots']/2"
   ]
  },
  {
   "cell_type": "code",
   "execution_count": 77,
   "metadata": {},
   "outputs": [
    {
     "name": "stdout",
     "output_type": "stream",
     "text": [
      "   facid  slots             name  usage(hr)\n",
      "0      0    957   Tennis Court 1      478.5\n",
      "1      1    882   Tennis Court 2      441.0\n",
      "2      2   1086  Badminton Court      543.0\n",
      "3      3    794     Table Tennis      397.0\n",
      "4      4    884   Massage Room 1      442.0\n",
      "5      5     54   Massage Room 2       27.0\n",
      "6      6    418     Squash Court      209.0\n",
      "7      7    860    Snooker Table      430.0\n",
      "8      8    856       Pool Table      428.0\n"
     ]
    }
   ],
   "source": [
    "print(df_12_result)"
   ]
  },
  {
   "cell_type": "markdown",
   "metadata": {},
   "source": [
    "### Q13 Find the facilities usage by month, but not guests"
   ]
  },
  {
   "cell_type": "code",
   "execution_count": 78,
   "metadata": {},
   "outputs": [
    {
     "name": "stdout",
     "output_type": "stream",
     "text": [
      "      bookid  facid  memid            starttime  slots\n",
      "0          0      3      1  2012-07-03 11:00:00      2\n",
      "1          1      4      1  2012-07-03 08:00:00      2\n",
      "3          3      7      1  2012-07-03 19:00:00      2\n",
      "4          4      8      1  2012-07-03 10:00:00      1\n",
      "5          5      8      1  2012-07-03 15:00:00      1\n",
      "...      ...    ...    ...                  ...    ...\n",
      "4038    4038      8     29  2012-09-30 16:30:00      2\n",
      "4039    4039      8     29  2012-09-30 18:00:00      1\n",
      "4040    4040      8     21  2012-09-30 18:30:00      1\n",
      "4041    4041      8     16  2012-09-30 19:00:00      1\n",
      "4042    4042      8     29  2012-09-30 19:30:00      1\n",
      "\n",
      "[3160 rows x 5 columns]\n"
     ]
    }
   ],
   "source": [
    "print(df_mem_bk)"
   ]
  },
  {
   "cell_type": "code",
   "execution_count": 79,
   "metadata": {},
   "outputs": [],
   "source": [
    "import datetime as dt"
   ]
  },
  {
   "cell_type": "code",
   "execution_count": 83,
   "metadata": {},
   "outputs": [
    {
     "name": "stderr",
     "output_type": "stream",
     "text": [
      "<ipython-input-83-654ae4f0be09>:1: SettingWithCopyWarning: \n",
      "A value is trying to be set on a copy of a slice from a DataFrame.\n",
      "Try using .loc[row_indexer,col_indexer] = value instead\n",
      "\n",
      "See the caveats in the documentation: https://pandas.pydata.org/pandas-docs/stable/user_guide/indexing.html#returning-a-view-versus-a-copy\n",
      "  df_mem_bk['starttime'] = pd.to_datetime(df_mem_bk['starttime'])\n"
     ]
    }
   ],
   "source": [
    "df_mem_bk['starttime'] = pd.to_datetime(df_mem_bk['starttime'])"
   ]
  },
  {
   "cell_type": "code",
   "execution_count": 84,
   "metadata": {},
   "outputs": [
    {
     "name": "stdout",
     "output_type": "stream",
     "text": [
      "<class 'pandas.core.frame.DataFrame'>\n",
      "Int64Index: 3160 entries, 0 to 4042\n",
      "Data columns (total 5 columns):\n",
      " #   Column     Non-Null Count  Dtype         \n",
      "---  ------     --------------  -----         \n",
      " 0   bookid     3160 non-null   int64         \n",
      " 1   facid      3160 non-null   int64         \n",
      " 2   memid      3160 non-null   int64         \n",
      " 3   starttime  3160 non-null   datetime64[ns]\n",
      " 4   slots      3160 non-null   int64         \n",
      "dtypes: datetime64[ns](1), int64(4)\n",
      "memory usage: 148.1 KB\n"
     ]
    }
   ],
   "source": [
    "df_mem_bk.info()"
   ]
  },
  {
   "cell_type": "code",
   "execution_count": 85,
   "metadata": {},
   "outputs": [
    {
     "name": "stderr",
     "output_type": "stream",
     "text": [
      "<ipython-input-85-bbc44a712c7e>:1: SettingWithCopyWarning: \n",
      "A value is trying to be set on a copy of a slice from a DataFrame.\n",
      "Try using .loc[row_indexer,col_indexer] = value instead\n",
      "\n",
      "See the caveats in the documentation: https://pandas.pydata.org/pandas-docs/stable/user_guide/indexing.html#returning-a-view-versus-a-copy\n",
      "  df_mem_bk['month'] = df_mem_bk['starttime'].dt.month\n"
     ]
    }
   ],
   "source": [
    "df_mem_bk['month'] = df_mem_bk['starttime'].dt.month"
   ]
  },
  {
   "cell_type": "code",
   "execution_count": 86,
   "metadata": {},
   "outputs": [
    {
     "name": "stdout",
     "output_type": "stream",
     "text": [
      "      bookid  facid  memid           starttime  slots  month\n",
      "0          0      3      1 2012-07-03 11:00:00      2      7\n",
      "1          1      4      1 2012-07-03 08:00:00      2      7\n",
      "3          3      7      1 2012-07-03 19:00:00      2      7\n",
      "4          4      8      1 2012-07-03 10:00:00      1      7\n",
      "5          5      8      1 2012-07-03 15:00:00      1      7\n",
      "...      ...    ...    ...                 ...    ...    ...\n",
      "4038    4038      8     29 2012-09-30 16:30:00      2      9\n",
      "4039    4039      8     29 2012-09-30 18:00:00      1      9\n",
      "4040    4040      8     21 2012-09-30 18:30:00      1      9\n",
      "4041    4041      8     16 2012-09-30 19:00:00      1      9\n",
      "4042    4042      8     29 2012-09-30 19:30:00      1      9\n",
      "\n",
      "[3160 rows x 6 columns]\n"
     ]
    }
   ],
   "source": [
    "print(df_mem_bk)"
   ]
  },
  {
   "cell_type": "code",
   "execution_count": 91,
   "metadata": {},
   "outputs": [],
   "source": [
    "df_13 = df_mem_bk.groupby(['month','facid']).agg({'slots':sum})"
   ]
  },
  {
   "cell_type": "code",
   "execution_count": 109,
   "metadata": {},
   "outputs": [],
   "source": [
    "df_13_result = df_13.reset_index().merge(df_fac, how='left', on='facid').set_index(['month','facid'])"
   ]
  },
  {
   "cell_type": "code",
   "execution_count": 110,
   "metadata": {},
   "outputs": [],
   "source": [
    "df_13_result.drop(columns = ['membercost','guestcost','initialoutlay','monthlymaintenance'],inplace = True)"
   ]
  },
  {
   "cell_type": "code",
   "execution_count": 112,
   "metadata": {},
   "outputs": [],
   "source": [
    "df_13_result['usage(hr)'] = df_13_result['slots']/2"
   ]
  },
  {
   "cell_type": "code",
   "execution_count": 113,
   "metadata": {},
   "outputs": [
    {
     "name": "stdout",
     "output_type": "stream",
     "text": [
      "             slots             name  usage(hr)\n",
      "month facid                                   \n",
      "7     0        201   Tennis Court 1      100.5\n",
      "      1        123   Tennis Court 2       61.5\n",
      "      2        165  Badminton Court       82.5\n",
      "      3         98     Table Tennis       49.0\n",
      "      4        166   Massage Room 1       83.0\n",
      "      5          8   Massage Room 2        4.0\n",
      "      6         50     Squash Court       25.0\n",
      "      7        140    Snooker Table       70.0\n",
      "      8        110       Pool Table       55.0\n",
      "8     0        339   Tennis Court 1      169.5\n",
      "      1        345   Tennis Court 2      172.5\n",
      "      2        414  Badminton Court      207.0\n",
      "      3        296     Table Tennis      148.0\n",
      "      4        316   Massage Room 1      158.0\n",
      "      5         18   Massage Room 2        9.0\n",
      "      6        184     Squash Court       92.0\n",
      "      7        316    Snooker Table      158.0\n",
      "      8        303       Pool Table      151.5\n",
      "9     0        417   Tennis Court 1      208.5\n",
      "      1        414   Tennis Court 2      207.0\n",
      "      2        507  Badminton Court      253.5\n",
      "      3        400     Table Tennis      200.0\n",
      "      4        402   Massage Room 1      201.0\n",
      "      5         28   Massage Room 2       14.0\n",
      "      6        184     Squash Court       92.0\n",
      "      7        404    Snooker Table      202.0\n",
      "      8        443       Pool Table      221.5\n"
     ]
    }
   ],
   "source": [
    "print(df_13_result)"
   ]
  },
  {
   "cell_type": "code",
   "execution_count": null,
   "metadata": {},
   "outputs": [],
   "source": []
  }
 ],
 "metadata": {
  "kernelspec": {
   "display_name": "Python 3",
   "language": "python",
   "name": "python3"
  },
  "language_info": {
   "codemirror_mode": {
    "name": "ipython",
    "version": 3
   },
   "file_extension": ".py",
   "mimetype": "text/x-python",
   "name": "python",
   "nbconvert_exporter": "python",
   "pygments_lexer": "ipython3",
   "version": "3.8.3"
  }
 },
 "nbformat": 4,
 "nbformat_minor": 4
}
